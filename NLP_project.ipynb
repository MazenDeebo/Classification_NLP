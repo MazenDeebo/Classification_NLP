{
 "cells": [
  {
   "cell_type": "code",
   "execution_count": 60,
   "metadata": {},
   "outputs": [],
   "source": [
    "import os\n",
    "import time\n",
    "import pandas as pd # to work on data frames and can handle any outlier or noise records in datasets\n",
    "import numpy as np # to get algebratic opertaion on data\n",
    "import matplotlib.pyplot as plt # to visualize data and cleaning ( i do it to show outputs of my cleaning (my point of veiw)) \n",
    "import seaborn as sns\n",
    "\n",
    "import re # this library work on regular expressions for pattern matching and string manipulation i search alot on it i understand this only\n",
    "import string # this library has ASCII letters, digits, punctuation, and whitespace i use it to get (punctuation) to remove it from data\n",
    "import nltk # library we use to preprocess on text data to make it clean and in standerd form to use it in NLP\n",
    "from nltk.corpus import stopwords # this module we use to remove stopwords\n",
    "from nltk.tokenize import word_tokenize # this module we use it to tokanise text into words\n",
    "from nltk.stem import WordNetLemmatizer # this lemmatizedr get base of each word to make words in his base ( if verb , noun , adverb or adgectives)\n",
    "\n",
    "from sklearn.utils import resample # this module i use to oversample my data to get representitive data to represent toxic and nun-toxic equally\n",
    "from sklearn.model_selection import train_test_split # to split dataset into training and testing and validation\n",
    "from sklearn.metrics import accuracy_score, precision_score, recall_score, f1_score, confusion_matrix # to calculate accuracy and all of f1 score and other matrices\n",
    "\n",
    "import tensorflow as tf # Importing the TensorFlow library this framwork to implement all of things about neural networks and DNN\n",
    "from tensorflow.keras.preprocessing.text import Tokenizer # Importing the Tokenizer to tokanize my text using tensorflow\n",
    "from tensorflow.keras.preprocessing.sequence import pad_sequences # Importing the pad_sequences function from TensorFlow to pad my sequence and make all of sentence in same length\n",
    "\n",
    "import torch # importing pytorch library this framework to run my neural networks\n",
    "from torch import nn\n",
    "import torch.optim as optim\n",
    "\n",
    "from transformers import AutoTokenizer, AutoModelForSequenceClassification, AdamW # importing pre-trained model BERT from transformers library"
   ]
  },
  {
   "cell_type": "code",
   "execution_count": 58,
   "metadata": {},
   "outputs": [
    {
     "name": "stdout",
     "output_type": "stream",
     "text": [
      "Num GPUs Available: 1\n"
     ]
    }
   ],
   "source": [
    "import tensorflow as tf\n",
    "\n",
    "# Check if TensorFlow can access the GPU\n",
    "print(\"Num GPUs Available:\", len(tf.config.experimental.list_physical_devices('GPU')))\n"
   ]
  },
  {
   "cell_type": "code",
   "execution_count": 59,
   "metadata": {},
   "outputs": [
    {
     "name": "stdout",
     "output_type": "stream",
     "text": [
      "Is GPU available in PyTorch: True\n"
     ]
    }
   ],
   "source": [
    "import torch\n",
    "print(\"Is GPU available in PyTorch:\", torch.cuda.is_available())\n"
   ]
  },
  {
   "cell_type": "code",
   "execution_count": 4,
   "metadata": {},
   "outputs": [],
   "source": [
    "# we read our csv file using pd.read_csv\n",
    "data = pd.read_csv(r\"D:\\FCDS\\semster 7\\NLP\\Project\\train.csv\")"
   ]
  },
  {
   "cell_type": "markdown",
   "metadata": {},
   "source": [
    "## **Check on all attributes are has outliers , null-values or duplicates**"
   ]
  },
  {
   "cell_type": "markdown",
   "metadata": {},
   "source": [
    "To display our data and know about data and what is contain from features or labels and what is range of values of each column and what it's data type"
   ]
  },
  {
   "cell_type": "code",
   "execution_count": 5,
   "metadata": {},
   "outputs": [
    {
     "data": {
      "text/html": [
       "<div>\n",
       "<style scoped>\n",
       "    .dataframe tbody tr th:only-of-type {\n",
       "        vertical-align: middle;\n",
       "    }\n",
       "\n",
       "    .dataframe tbody tr th {\n",
       "        vertical-align: top;\n",
       "    }\n",
       "\n",
       "    .dataframe thead th {\n",
       "        text-align: right;\n",
       "    }\n",
       "</style>\n",
       "<table border=\"1\" class=\"dataframe\">\n",
       "  <thead>\n",
       "    <tr style=\"text-align: right;\">\n",
       "      <th></th>\n",
       "      <th>id</th>\n",
       "      <th>comment_text</th>\n",
       "      <th>toxic</th>\n",
       "      <th>severe_toxic</th>\n",
       "      <th>obscene</th>\n",
       "      <th>threat</th>\n",
       "      <th>insult</th>\n",
       "      <th>identity_hate</th>\n",
       "    </tr>\n",
       "  </thead>\n",
       "  <tbody>\n",
       "    <tr>\n",
       "      <th>0</th>\n",
       "      <td>0000997932d777bf</td>\n",
       "      <td>Explanation\\nWhy the edits made under my usern...</td>\n",
       "      <td>0</td>\n",
       "      <td>0</td>\n",
       "      <td>0</td>\n",
       "      <td>0</td>\n",
       "      <td>0</td>\n",
       "      <td>0</td>\n",
       "    </tr>\n",
       "    <tr>\n",
       "      <th>1</th>\n",
       "      <td>000103f0d9cfb60f</td>\n",
       "      <td>D'aww! He matches this background colour I'm s...</td>\n",
       "      <td>0</td>\n",
       "      <td>0</td>\n",
       "      <td>0</td>\n",
       "      <td>0</td>\n",
       "      <td>0</td>\n",
       "      <td>0</td>\n",
       "    </tr>\n",
       "    <tr>\n",
       "      <th>2</th>\n",
       "      <td>000113f07ec002fd</td>\n",
       "      <td>Hey man, I'm really not trying to edit war. It...</td>\n",
       "      <td>0</td>\n",
       "      <td>0</td>\n",
       "      <td>0</td>\n",
       "      <td>0</td>\n",
       "      <td>0</td>\n",
       "      <td>0</td>\n",
       "    </tr>\n",
       "    <tr>\n",
       "      <th>3</th>\n",
       "      <td>0001b41b1c6bb37e</td>\n",
       "      <td>\"\\nMore\\nI can't make any real suggestions on ...</td>\n",
       "      <td>0</td>\n",
       "      <td>0</td>\n",
       "      <td>0</td>\n",
       "      <td>0</td>\n",
       "      <td>0</td>\n",
       "      <td>0</td>\n",
       "    </tr>\n",
       "    <tr>\n",
       "      <th>4</th>\n",
       "      <td>0001d958c54c6e35</td>\n",
       "      <td>You, sir, are my hero. Any chance you remember...</td>\n",
       "      <td>0</td>\n",
       "      <td>0</td>\n",
       "      <td>0</td>\n",
       "      <td>0</td>\n",
       "      <td>0</td>\n",
       "      <td>0</td>\n",
       "    </tr>\n",
       "    <tr>\n",
       "      <th>5</th>\n",
       "      <td>00025465d4725e87</td>\n",
       "      <td>\"\\n\\nCongratulations from me as well, use the ...</td>\n",
       "      <td>0</td>\n",
       "      <td>0</td>\n",
       "      <td>0</td>\n",
       "      <td>0</td>\n",
       "      <td>0</td>\n",
       "      <td>0</td>\n",
       "    </tr>\n",
       "    <tr>\n",
       "      <th>6</th>\n",
       "      <td>0002bcb3da6cb337</td>\n",
       "      <td>COCKSUCKER BEFORE YOU PISS AROUND ON MY WORK</td>\n",
       "      <td>1</td>\n",
       "      <td>1</td>\n",
       "      <td>1</td>\n",
       "      <td>0</td>\n",
       "      <td>1</td>\n",
       "      <td>0</td>\n",
       "    </tr>\n",
       "    <tr>\n",
       "      <th>7</th>\n",
       "      <td>00031b1e95af7921</td>\n",
       "      <td>Your vandalism to the Matt Shirvington article...</td>\n",
       "      <td>0</td>\n",
       "      <td>0</td>\n",
       "      <td>0</td>\n",
       "      <td>0</td>\n",
       "      <td>0</td>\n",
       "      <td>0</td>\n",
       "    </tr>\n",
       "    <tr>\n",
       "      <th>8</th>\n",
       "      <td>00037261f536c51d</td>\n",
       "      <td>Sorry if the word 'nonsense' was offensive to ...</td>\n",
       "      <td>0</td>\n",
       "      <td>0</td>\n",
       "      <td>0</td>\n",
       "      <td>0</td>\n",
       "      <td>0</td>\n",
       "      <td>0</td>\n",
       "    </tr>\n",
       "    <tr>\n",
       "      <th>9</th>\n",
       "      <td>00040093b2687caa</td>\n",
       "      <td>alignment on this subject and which are contra...</td>\n",
       "      <td>0</td>\n",
       "      <td>0</td>\n",
       "      <td>0</td>\n",
       "      <td>0</td>\n",
       "      <td>0</td>\n",
       "      <td>0</td>\n",
       "    </tr>\n",
       "  </tbody>\n",
       "</table>\n",
       "</div>"
      ],
      "text/plain": [
       "                 id                                       comment_text  toxic  \\\n",
       "0  0000997932d777bf  Explanation\\nWhy the edits made under my usern...      0   \n",
       "1  000103f0d9cfb60f  D'aww! He matches this background colour I'm s...      0   \n",
       "2  000113f07ec002fd  Hey man, I'm really not trying to edit war. It...      0   \n",
       "3  0001b41b1c6bb37e  \"\\nMore\\nI can't make any real suggestions on ...      0   \n",
       "4  0001d958c54c6e35  You, sir, are my hero. Any chance you remember...      0   \n",
       "5  00025465d4725e87  \"\\n\\nCongratulations from me as well, use the ...      0   \n",
       "6  0002bcb3da6cb337       COCKSUCKER BEFORE YOU PISS AROUND ON MY WORK      1   \n",
       "7  00031b1e95af7921  Your vandalism to the Matt Shirvington article...      0   \n",
       "8  00037261f536c51d  Sorry if the word 'nonsense' was offensive to ...      0   \n",
       "9  00040093b2687caa  alignment on this subject and which are contra...      0   \n",
       "\n",
       "   severe_toxic  obscene  threat  insult  identity_hate  \n",
       "0             0        0       0       0              0  \n",
       "1             0        0       0       0              0  \n",
       "2             0        0       0       0              0  \n",
       "3             0        0       0       0              0  \n",
       "4             0        0       0       0              0  \n",
       "5             0        0       0       0              0  \n",
       "6             1        1       0       1              0  \n",
       "7             0        0       0       0              0  \n",
       "8             0        0       0       0              0  \n",
       "9             0        0       0       0              0  "
      ]
     },
     "execution_count": 5,
     "metadata": {},
     "output_type": "execute_result"
    }
   ],
   "source": [
    "# to show our records and columns and what this data contain.\n",
    "data.head(10)"
   ]
  },
  {
   "cell_type": "markdown",
   "metadata": {},
   "source": [
    "**id** is an unique identifier for each comment , **comment_text** are comments (string) and all columns after that are adjectives for each column like \"Hey man, I'm really not trying to edit war\" is not **(toxic,severe_toxic,obscene,threat,insult or identity_hate)** we know if comment is **toxic** or not we look to record if **0** so is not toxic is **1** so is toxic comment and so on in preveious columns"
   ]
  },
  {
   "cell_type": "markdown",
   "metadata": {},
   "source": [
    "we use it to know number of null values and datatype of each column and size of each column "
   ]
  },
  {
   "cell_type": "code",
   "execution_count": 6,
   "metadata": {},
   "outputs": [
    {
     "name": "stdout",
     "output_type": "stream",
     "text": [
      "<class 'pandas.core.frame.DataFrame'>\n",
      "RangeIndex: 159571 entries, 0 to 159570\n",
      "Data columns (total 8 columns):\n",
      " #   Column         Non-Null Count   Dtype \n",
      "---  ------         --------------   ----- \n",
      " 0   id             159571 non-null  object\n",
      " 1   comment_text   159571 non-null  object\n",
      " 2   toxic          159571 non-null  int64 \n",
      " 3   severe_toxic   159571 non-null  int64 \n",
      " 4   obscene        159571 non-null  int64 \n",
      " 5   threat         159571 non-null  int64 \n",
      " 6   insult         159571 non-null  int64 \n",
      " 7   identity_hate  159571 non-null  int64 \n",
      "dtypes: int64(6), object(2)\n",
      "memory usage: 9.7+ MB\n"
     ]
    }
   ],
   "source": [
    "# to know number of records , null values in dataset and datatype of each attribute\n",
    "data.info()"
   ]
  },
  {
   "cell_type": "markdown",
   "metadata": {},
   "source": [
    "we found \"id\" and \"comment_text\" are string data type and all columns after these are integers / we expect that from reading the data "
   ]
  },
  {
   "cell_type": "markdown",
   "metadata": {},
   "source": [
    "# check outliers"
   ]
  },
  {
   "cell_type": "markdown",
   "metadata": {},
   "source": [
    "To know if our data is balanced or not and if we have outliers or not to make our model training well and can classify correctly beacuse outliers and imbalanced features make model not fitted on data and make data has large scale out of normal scale = (outlier) "
   ]
  },
  {
   "cell_type": "code",
   "execution_count": 7,
   "metadata": {},
   "outputs": [
    {
     "data": {
      "text/html": [
       "<div>\n",
       "<style scoped>\n",
       "    .dataframe tbody tr th:only-of-type {\n",
       "        vertical-align: middle;\n",
       "    }\n",
       "\n",
       "    .dataframe tbody tr th {\n",
       "        vertical-align: top;\n",
       "    }\n",
       "\n",
       "    .dataframe thead th {\n",
       "        text-align: right;\n",
       "    }\n",
       "</style>\n",
       "<table border=\"1\" class=\"dataframe\">\n",
       "  <thead>\n",
       "    <tr style=\"text-align: right;\">\n",
       "      <th></th>\n",
       "      <th>toxic</th>\n",
       "      <th>severe_toxic</th>\n",
       "      <th>obscene</th>\n",
       "      <th>threat</th>\n",
       "      <th>insult</th>\n",
       "      <th>identity_hate</th>\n",
       "    </tr>\n",
       "  </thead>\n",
       "  <tbody>\n",
       "    <tr>\n",
       "      <th>count</th>\n",
       "      <td>159571.000000</td>\n",
       "      <td>159571.000000</td>\n",
       "      <td>159571.000000</td>\n",
       "      <td>159571.000000</td>\n",
       "      <td>159571.000000</td>\n",
       "      <td>159571.000000</td>\n",
       "    </tr>\n",
       "    <tr>\n",
       "      <th>mean</th>\n",
       "      <td>0.095844</td>\n",
       "      <td>0.009996</td>\n",
       "      <td>0.052948</td>\n",
       "      <td>0.002996</td>\n",
       "      <td>0.049364</td>\n",
       "      <td>0.008805</td>\n",
       "    </tr>\n",
       "    <tr>\n",
       "      <th>std</th>\n",
       "      <td>0.294379</td>\n",
       "      <td>0.099477</td>\n",
       "      <td>0.223931</td>\n",
       "      <td>0.054650</td>\n",
       "      <td>0.216627</td>\n",
       "      <td>0.093420</td>\n",
       "    </tr>\n",
       "    <tr>\n",
       "      <th>min</th>\n",
       "      <td>0.000000</td>\n",
       "      <td>0.000000</td>\n",
       "      <td>0.000000</td>\n",
       "      <td>0.000000</td>\n",
       "      <td>0.000000</td>\n",
       "      <td>0.000000</td>\n",
       "    </tr>\n",
       "    <tr>\n",
       "      <th>25%</th>\n",
       "      <td>0.000000</td>\n",
       "      <td>0.000000</td>\n",
       "      <td>0.000000</td>\n",
       "      <td>0.000000</td>\n",
       "      <td>0.000000</td>\n",
       "      <td>0.000000</td>\n",
       "    </tr>\n",
       "    <tr>\n",
       "      <th>50%</th>\n",
       "      <td>0.000000</td>\n",
       "      <td>0.000000</td>\n",
       "      <td>0.000000</td>\n",
       "      <td>0.000000</td>\n",
       "      <td>0.000000</td>\n",
       "      <td>0.000000</td>\n",
       "    </tr>\n",
       "    <tr>\n",
       "      <th>75%</th>\n",
       "      <td>0.000000</td>\n",
       "      <td>0.000000</td>\n",
       "      <td>0.000000</td>\n",
       "      <td>0.000000</td>\n",
       "      <td>0.000000</td>\n",
       "      <td>0.000000</td>\n",
       "    </tr>\n",
       "    <tr>\n",
       "      <th>max</th>\n",
       "      <td>1.000000</td>\n",
       "      <td>1.000000</td>\n",
       "      <td>1.000000</td>\n",
       "      <td>1.000000</td>\n",
       "      <td>1.000000</td>\n",
       "      <td>1.000000</td>\n",
       "    </tr>\n",
       "  </tbody>\n",
       "</table>\n",
       "</div>"
      ],
      "text/plain": [
       "               toxic   severe_toxic        obscene         threat  \\\n",
       "count  159571.000000  159571.000000  159571.000000  159571.000000   \n",
       "mean        0.095844       0.009996       0.052948       0.002996   \n",
       "std         0.294379       0.099477       0.223931       0.054650   \n",
       "min         0.000000       0.000000       0.000000       0.000000   \n",
       "25%         0.000000       0.000000       0.000000       0.000000   \n",
       "50%         0.000000       0.000000       0.000000       0.000000   \n",
       "75%         0.000000       0.000000       0.000000       0.000000   \n",
       "max         1.000000       1.000000       1.000000       1.000000   \n",
       "\n",
       "              insult  identity_hate  \n",
       "count  159571.000000  159571.000000  \n",
       "mean        0.049364       0.008805  \n",
       "std         0.216627       0.093420  \n",
       "min         0.000000       0.000000  \n",
       "25%         0.000000       0.000000  \n",
       "50%         0.000000       0.000000  \n",
       "75%         0.000000       0.000000  \n",
       "max         1.000000       1.000000  "
      ]
     },
     "execution_count": 7,
     "metadata": {},
     "output_type": "execute_result"
    }
   ],
   "source": [
    "#to describe statstical informations about all numeric attributes\n",
    "data.describe()"
   ]
  },
  {
   "cell_type": "markdown",
   "metadata": {},
   "source": [
    "we found all numeric attributes are binary attribute have only 0 or 1 so **we don't have any outliers** in these columns but we found **imbalanced columns** and the majority of this is 0 these columns are ('toxic', 'severe_toxic', 'obscene', 'threat', 'insult', and 'identity_hate') so i will do more visualization and analysis to get way to solve this problem"
   ]
  },
  {
   "cell_type": "markdown",
   "metadata": {},
   "source": [
    "# check null-values"
   ]
  },
  {
   "cell_type": "markdown",
   "metadata": {},
   "source": [
    "To check if we have any null-values or not this make our model not train well so we will remove any null if number of nulls is small with respect to all number of records or we will found another way to fill it if the column that has null is important for training our model"
   ]
  },
  {
   "cell_type": "code",
   "execution_count": 8,
   "metadata": {},
   "outputs": [
    {
     "data": {
      "text/plain": [
       "id               0\n",
       "comment_text     0\n",
       "toxic            0\n",
       "severe_toxic     0\n",
       "obscene          0\n",
       "threat           0\n",
       "insult           0\n",
       "identity_hate    0\n",
       "dtype: int64"
      ]
     },
     "execution_count": 8,
     "metadata": {},
     "output_type": "execute_result"
    }
   ],
   "source": [
    "#to know number of null values for all records in each column from our dataset\n",
    "data.isnull().sum()"
   ]
  },
  {
   "cell_type": "markdown",
   "metadata": {},
   "source": [
    "we don't have any null-values in our dataset so this indicate our model will be more accurate than if we found nulls "
   ]
  },
  {
   "cell_type": "markdown",
   "metadata": {},
   "source": [
    "# Check Duplicates"
   ]
  },
  {
   "cell_type": "markdown",
   "metadata": {},
   "source": [
    "we will check duplicates to make our data is cleaned because duplicate make model may have overfitting and we will save records not understand it so we must remove records in comment text because it is only column may have duplicates because it is a text column"
   ]
  },
  {
   "cell_type": "code",
   "execution_count": 9,
   "metadata": {},
   "outputs": [
    {
     "name": "stdout",
     "output_type": "stream",
     "text": [
      "[]\n"
     ]
    }
   ],
   "source": [
    "# we define function to check if we have duplicates or not\n",
    "def check_duplicates(dataframe):\n",
    "    # we define varibable to save in it index of duplicate if we find it\n",
    "    duplicate_indices = []\n",
    "\n",
    "    # Create a set to store unique comments from column comment_text\n",
    "    unique_texts = set()\n",
    "\n",
    "    # Iterate through the data row by row\n",
    "    for index, row in dataframe.iterrows():\n",
    "        # we will iterate on comment_text column this column we want to check duplicates in it\n",
    "        comment_text = row['comment_text']\n",
    "\n",
    "        # Check if the comment_text has been seen before or not\n",
    "        if comment_text in unique_texts:\n",
    "            # if comment_text is in unique_text\n",
    "            # will append index of this in duplicate\n",
    "            # this check find if text repeated or not   \n",
    "            duplicate_indices.append(index)\n",
    "        else:\n",
    "            # we will save comment_text in unique_text \n",
    "            unique_texts.add(comment_text)\n",
    "    # we will return indices of duplicates in list \n",
    "    # and if we found indices in it we will remove these indices\n",
    "    return duplicate_indices\n",
    "\n",
    "# we will Call the function to get indices of duplicate rows\n",
    "duplicate_indices = check_duplicates(data)\n",
    "\n",
    "# now we will Print the duplicate indices\n",
    "print(duplicate_indices)"
   ]
  },
  {
   "cell_type": "markdown",
   "metadata": {},
   "source": [
    "i don't found any duplicates in comment text column so our data is cleaned and not make any bad effect on our model"
   ]
  },
  {
   "cell_type": "markdown",
   "metadata": {},
   "source": [
    "# Solve imbalanced columns"
   ]
  },
  {
   "cell_type": "markdown",
   "metadata": {},
   "source": [
    "i want to show Percentage of toxicity comments in my dataset to detect what is major and manior of imbalanced columns  "
   ]
  },
  {
   "cell_type": "code",
   "execution_count": 10,
   "metadata": {},
   "outputs": [
    {
     "data": {
      "image/png": "[encoded data removed]",
      "text/plain": [
       "<Figure size 1000x600 with 1 Axes>"
      ]
     },
     "metadata": {},
     "output_type": "display_data"
    }
   ],
   "source": [
    "# Calculate the percentages\n",
    "percentages = data[['toxic', 'severe_toxic', 'obscene', 'threat', 'insult', 'identity_hate']].mean() * 100\n",
    "# Create a bar chart\n",
    "plt.figure(figsize=(10, 6))\n",
    "percentages.plot(kind='bar')\n",
    "plt.title('Percentage of Toxicity Categories')\n",
    "plt.xlabel('Category')\n",
    "plt.ylabel('Percentage (%)')\n",
    "plt.xticks(rotation=45)\n",
    "plt.ylim(0, 100)\n",
    "\n",
    "# Add percentage labels on top of each bar\n",
    "for i, v in enumerate(percentages):\n",
    "    plt.text(i, v + 1, f'{v:.2f}%', ha='center', va='bottom')\n",
    "\n",
    "plt.tight_layout()\n",
    "plt.show()"
   ]
  },
  {
   "cell_type": "markdown",
   "metadata": {},
   "source": [
    "i found manior of data is 1 of all columns and percenatage of manior is round 10% so imbalance is 90% for 0(like : comment is not toxic) and 10% for 1 (like : comment is toxic)"
   ]
  },
  {
   "cell_type": "markdown",
   "metadata": {},
   "source": [
    "know i will oversampling my data to solve imbalancing by incrasing number of toxic classes and their labels this will affect positivly on my transformer training so will make it can cassify most of 2 classes"
   ]
  },
  {
   "cell_type": "code",
   "execution_count": 11,
   "metadata": {},
   "outputs": [
    {
     "data": {
      "text/plain": [
       "(288554, 8)"
      ]
     },
     "execution_count": 11,
     "metadata": {},
     "output_type": "execute_result"
    }
   ],
   "source": [
    "# Separate the majority and minority classes\n",
    "non_toxic = data[data['toxic'] == 0]\n",
    "toxic = data[data['toxic'] == 1]\n",
    "\n",
    "# Oversample the minority class (toxic)\n",
    "toxic_oversampled = resample(toxic, replace=True, n_samples=len(non_toxic), random_state=42)\n",
    "\n",
    "# Combine the oversampled minority class with the majority class\n",
    "balanced_data = pd.concat([non_toxic, toxic_oversampled])\n",
    "\n",
    "balanced_data.shape"
   ]
  },
  {
   "cell_type": "markdown",
   "metadata": {},
   "source": [
    "after oversampling i have balanced data it make data more representitive to toxic and non-toxic classes and know i have 288554 sample because oversampling thats concatinate orginial data with new generated data (modifed) and i will work on this balanced data"
   ]
  },
  {
   "cell_type": "markdown",
   "metadata": {},
   "source": [
    "**notice** : oversampling solve imbalanced but give to us redundunt comments it may indicate to overfitting and to avoid it i will regulaize my model by using normalization and dropout techniques to make model understand the pattern and do will in test data set"
   ]
  },
  {
   "cell_type": "markdown",
   "metadata": {},
   "source": [
    "know we will show percentage of toxic classes with respect to all data"
   ]
  },
  {
   "cell_type": "code",
   "execution_count": 12,
   "metadata": {},
   "outputs": [
    {
     "data": {
      "image/png": "[encoded data removed]",
      "text/plain": [
       "<Figure size 1000x600 with 1 Axes>"
      ]
     },
     "metadata": {},
     "output_type": "display_data"
    }
   ],
   "source": [
    "# Calculate the percentages\n",
    "percentages = balanced_data[['toxic', 'severe_toxic', 'obscene', 'threat', 'insult', 'identity_hate']].mean() * 100\n",
    "# Create a bar chart\n",
    "plt.figure(figsize=(10, 6))\n",
    "percentages.plot(kind='bar')\n",
    "plt.title('Percentage of Toxicity Categories')\n",
    "plt.xlabel('Category')\n",
    "plt.ylabel('Percentage (%)')\n",
    "plt.xticks(rotation=45)\n",
    "plt.ylim(0, 100)\n",
    "\n",
    "# Add percentage labels on top of each bar\n",
    "for i, v in enumerate(percentages):\n",
    "    plt.text(i, v + 1, f'{v:.2f}%', ha='center', va='bottom')\n",
    "\n",
    "plt.tight_layout()\n",
    "plt.show()"
   ]
  },
  {
   "cell_type": "markdown",
   "metadata": {},
   "source": [
    "from this plot we have balancing toxic column that represent 50% toxic and 50% non-toxic it will make model do better in all of casses"
   ]
  },
  {
   "cell_type": "markdown",
   "metadata": {},
   "source": [
    "# finally do cleaning on all data from nulls , outliers , duplicates and solve imbalancing columns"
   ]
  },
  {
   "cell_type": "markdown",
   "metadata": {},
   "source": [
    "## **preprocessing on text column** "
   ]
  },
  {
   "cell_type": "code",
   "execution_count": 13,
   "metadata": {},
   "outputs": [
    {
     "name": "stderr",
     "output_type": "stream",
     "text": [
      "[nltk_data] Downloading package stopwords to\n",
      "[nltk_data]     C:\\Users\\mazen\\AppData\\Roaming\\nltk_data...\n",
      "[nltk_data]   Package stopwords is already up-to-date!\n",
      "[nltk_data] Downloading package punkt to\n",
      "[nltk_data]     C:\\Users\\mazen\\AppData\\Roaming\\nltk_data...\n",
      "[nltk_data]   Package punkt is already up-to-date!\n",
      "[nltk_data] Downloading package wordnet to\n",
      "[nltk_data]     C:\\Users\\mazen\\AppData\\Roaming\\nltk_data...\n",
      "[nltk_data]   Package wordnet is already up-to-date!\n"
     ]
    },
    {
     "data": {
      "text/plain": [
       "True"
      ]
     },
     "execution_count": 13,
     "metadata": {},
     "output_type": "execute_result"
    }
   ],
   "source": [
    "# first we will download all necessary recourses to use ntlk\n",
    "# for stopwords and punctuations and wordnet of english language\n",
    "nltk.download('stopwords')\n",
    "nltk.download('punkt')\n",
    "nltk.download('wordnet')"
   ]
  },
  {
   "cell_type": "markdown",
   "metadata": {},
   "source": [
    "After done from all data preprocessing must clean our text to make it in standerd form so we will use lot of steps to make it standerd (lowercasing , removing URLS , removing special charcters , removing punctuations , removing stop words and get base of each word by using lemmatization) in text all of removing thing i will remove it is outliers must remove it and after remove all outliers must get base of all words to avoid varites because one word can be represented in a lot of shapes "
   ]
  },
  {
   "cell_type": "code",
   "execution_count": 14,
   "metadata": {},
   "outputs": [],
   "source": [
    "def cleaninig(text):\n",
    "    # 1) Convert all charcters in lowercase to make all words in standerd form\n",
    "    # we save it in cleaned text\n",
    "    cleaned_text = text.lower()\n",
    "    \n",
    "    # 2) remove urls \n",
    "    # Define a regex pattern to match URLs (i study regex patterns from datacamp)(course intro_NLP)\n",
    "    url_pattern = re.compile(r'https?://\\S+|www\\.\\S+')\n",
    "    # Replace URLs with an empty string \n",
    "    # with this way we remove URLs from our comments\n",
    "    cleaned_text = url_pattern.sub('', cleaned_text)\n",
    "    \n",
    "    # 3) remove special charcters\n",
    "    # Define a regex pattern to match non-alphanumeric characters and spaces\n",
    "    special_char_pattern = re.compile(r'[^a-zA-Z\\s]')\n",
    "    # Replace special characters with an empty string\n",
    "    # with this way we remove special characters from our comments\n",
    "    cleaned_text = special_char_pattern.sub('', cleaned_text)\n",
    "    \n",
    "    # 4) remove punctuations\n",
    "    # Define a regex pattern to match punctuation characters\n",
    "    # we use library string to get all punctation marks \n",
    "    punctuation_pattern = re.compile(f\"[{re.escape(string.punctuation)}]\")\n",
    "    # Remove punctuation using the regex pattern\n",
    "    cleaned_text =  punctuation_pattern.sub('', cleaned_text)\n",
    "    \n",
    "    # 5) tokanization\n",
    "    # split text in words\n",
    "    # using built-function word_tokenize(text)\n",
    "    # return splitted words\n",
    "    tokens = word_tokenize(cleaned_text)\n",
    "    \n",
    "    # 6) remove stopwords\n",
    "    #we save stopwords of english language in varibale called stop_words\n",
    "    #stopwords.words('') take parameter (language you want to get stopwords of it)\n",
    "    stop_words = set(stopwords.words('english'))\n",
    "    # we will save each token without stopwords in each record \n",
    "    # and will save it in cleaned_tokens\n",
    "    cleaned_tokens = [word for word in tokens if word not in stop_words]\n",
    "    \n",
    "    # 7) get base of words using (lemmatization)\n",
    "    #take object from WordNetLemmatizer() to get base of each token(word)\n",
    "    lemmatizer = WordNetLemmatizer()\n",
    "    #apply lwmatization on each token on all nouns\n",
    "    lemmatized_tokens = [lemmatizer.lemmatize(word,pos='n') for word in cleaned_tokens]\n",
    "    #apply lwmatization on each lemmatized_tokens on all verbs\n",
    "    lemmatized_tokens = [lemmatizer.lemmatize(word,pos='v') for word in lemmatized_tokens]\n",
    "    #apply lwmatization on each lemmatized_tokens on all adverbs\n",
    "    lemmatized_tokens = [lemmatizer.lemmatize(word,pos='r') for word in lemmatized_tokens]\n",
    "    #apply lwmatization on each lemmatized_tokens on all adjectivs\n",
    "    lemmatized_tokens = [lemmatizer.lemmatize(word,pos='a') for word in lemmatized_tokens]\n",
    "    #return cummulative lemmatized_tokens (words)\n",
    "    lemmatized_sentences = ' '.join(lemmatized_tokens)\n",
    "    \n",
    "    return lemmatized_sentences"
   ]
  },
  {
   "cell_type": "code",
   "execution_count": 15,
   "metadata": {},
   "outputs": [],
   "source": [
    "# apply cleaning function on comment_text\n",
    "balanced_data['cleaned_comment_text'] = balanced_data[\"comment_text\"].apply(cleaninig)"
   ]
  },
  {
   "cell_type": "markdown",
   "metadata": {},
   "source": [
    "know we have cleaned_comment_text has text in standerd and cleaned without any outliers so we can train on this data to get better accuracy"
   ]
  },
  {
   "cell_type": "code",
   "execution_count": 16,
   "metadata": {},
   "outputs": [
    {
     "data": {
      "text/html": [
       "<div>\n",
       "<style scoped>\n",
       "    .dataframe tbody tr th:only-of-type {\n",
       "        vertical-align: middle;\n",
       "    }\n",
       "\n",
       "    .dataframe tbody tr th {\n",
       "        vertical-align: top;\n",
       "    }\n",
       "\n",
       "    .dataframe thead th {\n",
       "        text-align: right;\n",
       "    }\n",
       "</style>\n",
       "<table border=\"1\" class=\"dataframe\">\n",
       "  <thead>\n",
       "    <tr style=\"text-align: right;\">\n",
       "      <th></th>\n",
       "      <th>comment_text</th>\n",
       "      <th>cleaned_comment_text</th>\n",
       "    </tr>\n",
       "  </thead>\n",
       "  <tbody>\n",
       "    <tr>\n",
       "      <th>0</th>\n",
       "      <td>Explanation\\nWhy the edits made under my usern...</td>\n",
       "      <td>explanation edit make username hardcore metall...</td>\n",
       "    </tr>\n",
       "    <tr>\n",
       "      <th>1</th>\n",
       "      <td>D'aww! He matches this background colour I'm s...</td>\n",
       "      <td>daww match background colour im seemingly stic...</td>\n",
       "    </tr>\n",
       "    <tr>\n",
       "      <th>2</th>\n",
       "      <td>Hey man, I'm really not trying to edit war. It...</td>\n",
       "      <td>hey man im really try edit war guy constantly ...</td>\n",
       "    </tr>\n",
       "    <tr>\n",
       "      <th>3</th>\n",
       "      <td>\"\\nMore\\nI can't make any real suggestions on ...</td>\n",
       "      <td>cant make real suggestion improvement wonder s...</td>\n",
       "    </tr>\n",
       "    <tr>\n",
       "      <th>4</th>\n",
       "      <td>You, sir, are my hero. Any chance you remember...</td>\n",
       "      <td>sir hero chance remember page thats</td>\n",
       "    </tr>\n",
       "    <tr>\n",
       "      <th>...</th>\n",
       "      <td>...</td>\n",
       "      <td>...</td>\n",
       "    </tr>\n",
       "    <tr>\n",
       "      <th>63880</th>\n",
       "      <td>THAKSIN IS A FXXCKING THIEF AND SHOULD BE SHOT...</td>\n",
       "      <td>thaksin fxxcking thief shoot anf kill family m...</td>\n",
       "    </tr>\n",
       "    <tr>\n",
       "      <th>109790</th>\n",
       "      <td>Clone Saga Sucks \\nThis article needs more inf...</td>\n",
       "      <td>clone saga suck article need info everyone hat...</td>\n",
       "    </tr>\n",
       "    <tr>\n",
       "      <th>6170</th>\n",
       "      <td>Wanker \\n\\nCharles Knight is a complete arse w...</td>\n",
       "      <td>wanker charles knight complete arse wipe</td>\n",
       "    </tr>\n",
       "    <tr>\n",
       "      <th>36641</th>\n",
       "      <td>EPic Fail 333 \\n\\nI am FREAKING SERIOUS!!!\\n\\n...</td>\n",
       "      <td>epic fail freak serious block fail goodbye</td>\n",
       "    </tr>\n",
       "    <tr>\n",
       "      <th>151845</th>\n",
       "      <td>Oppose Iset? Crazy.</td>\n",
       "      <td>oppose iset crazy</td>\n",
       "    </tr>\n",
       "  </tbody>\n",
       "</table>\n",
       "<p>288554 rows × 2 columns</p>\n",
       "</div>"
      ],
      "text/plain": [
       "                                             comment_text  \\\n",
       "0       Explanation\\nWhy the edits made under my usern...   \n",
       "1       D'aww! He matches this background colour I'm s...   \n",
       "2       Hey man, I'm really not trying to edit war. It...   \n",
       "3       \"\\nMore\\nI can't make any real suggestions on ...   \n",
       "4       You, sir, are my hero. Any chance you remember...   \n",
       "...                                                   ...   \n",
       "63880   THAKSIN IS A FXXCKING THIEF AND SHOULD BE SHOT...   \n",
       "109790  Clone Saga Sucks \\nThis article needs more inf...   \n",
       "6170    Wanker \\n\\nCharles Knight is a complete arse w...   \n",
       "36641   EPic Fail 333 \\n\\nI am FREAKING SERIOUS!!!\\n\\n...   \n",
       "151845                                Oppose Iset? Crazy.   \n",
       "\n",
       "                                     cleaned_comment_text  \n",
       "0       explanation edit make username hardcore metall...  \n",
       "1       daww match background colour im seemingly stic...  \n",
       "2       hey man im really try edit war guy constantly ...  \n",
       "3       cant make real suggestion improvement wonder s...  \n",
       "4                     sir hero chance remember page thats  \n",
       "...                                                   ...  \n",
       "63880   thaksin fxxcking thief shoot anf kill family m...  \n",
       "109790  clone saga suck article need info everyone hat...  \n",
       "6170             wanker charles knight complete arse wipe  \n",
       "36641          epic fail freak serious block fail goodbye  \n",
       "151845                                  oppose iset crazy  \n",
       "\n",
       "[288554 rows x 2 columns]"
      ]
     },
     "execution_count": 16,
     "metadata": {},
     "output_type": "execute_result"
    }
   ],
   "source": [
    "# it is comparison between not-cleaned and cleaned text \n",
    "balanced_data[[\"comment_text\",\"cleaned_comment_text\"]]"
   ]
  },
  {
   "cell_type": "markdown",
   "metadata": {},
   "source": [
    "From reading domain i search on if this data is multi label or not and i found if any detect toxic , obscene or any column in this data it indicate this comment must be deleted so i will sum all of records and save it in coulmn called bad_comment if is equal to 1 it must be deleted or it is bad comment it is useful way to extract penfits from all these columns "
   ]
  },
  {
   "cell_type": "code",
   "execution_count": 17,
   "metadata": {},
   "outputs": [],
   "source": [
    "# Add up the toxic-related columns and apply thresholding\n",
    "toxic_columns = ['toxic', 'severe_toxic', 'obscene', 'threat', 'insult', 'identity_hate']\n",
    "balanced_data['bad_comment'] = balanced_data[toxic_columns].sum(axis=1).apply(lambda x: 1 if x >= 1 else 0)"
   ]
  },
  {
   "cell_type": "markdown",
   "metadata": {},
   "source": [
    "my label will be bad_comment and data has contain 10 columns i will only use 2 columns -> cleaned_comment_text as a feature and bad_comment as a label"
   ]
  },
  {
   "cell_type": "markdown",
   "metadata": {},
   "source": [
    "We will save all cleaning on data to not run preprocessing each time want to run the code"
   ]
  },
  {
   "cell_type": "code",
   "execution_count": 20,
   "metadata": {},
   "outputs": [],
   "source": [
    "# saving the dataframe\n",
    "balanced_data.to_csv('D:\\\\FCDS\\\\semster 7\\\\NLP\\\\Project\\\\balanced_data.csv', index=False)"
   ]
  },
  {
   "cell_type": "markdown",
   "metadata": {},
   "source": [
    "# NOW we finally do all cleaning on all data and text column too "
   ]
  },
  {
   "cell_type": "markdown",
   "metadata": {},
   "source": [
    "# **Transformer From Scratch**"
   ]
  },
  {
   "cell_type": "markdown",
   "metadata": {},
   "source": [
    "To create a transformer for classification from scratch, we need to implement (positional encoding, multi-head attention, feed-forward layers, and encoder layer) but can not use decoder because in classification must transformer get output from encoder and apply on it sigmoid or softmax but will apply sigmoid because we have binary classification problem so decoder layer is not will be used in our problem"
   ]
  },
  {
   "cell_type": "markdown",
   "metadata": {},
   "source": [
    "# Multi-Head Attention"
   ]
  },
  {
   "cell_type": "markdown",
   "metadata": {},
   "source": [
    "Multi-head attention into transformer processes data by focusing on different parts, computing attention scores, weighting information, and aggregating it across multiple heads to learn complex patterns and find relationships between it."
   ]
  },
  {
   "cell_type": "code",
   "execution_count": 19,
   "metadata": {},
   "outputs": [],
   "source": [
    "# Scaled Dot-Product Attention\n",
    "# This function will perform scaled dot-product attention between query (q), key (k), and value (v) tensors\n",
    "# we will use it in multihead attention to get output, attention_weights of words \n",
    "# make model to capture pattern between text\n",
    "def scaled_dot_product_attention(q, k, v, mask):\n",
    "    #Compute the dot product between query and key\n",
    "    matmul_qk = tf.matmul(q, k, transpose_b=True)\n",
    "    # Calculate the square root of the depth of the key\n",
    "    d_k = tf.cast(tf.shape(k)[-1], tf.float32)\n",
    "    # to scale the attention logits by dividing by the square root of the depth\n",
    "    scaled_attention_logits = matmul_qk / tf.math.sqrt(d_k)\n",
    "    # Apply an optional mask to the attention logits to hide certain positions\n",
    "    if mask is not None:\n",
    "        scaled_attention_logits += (mask * -1e9)\n",
    "    # Apply softmax to obtain attention weights and axis = -1 it mean get last dim\n",
    "    attention_weights = tf.nn.softmax(scaled_attention_logits, axis=-1)\n",
    "    #calculate weighted sum of the value v using the attention weights\n",
    "    output = tf.matmul(attention_weights, v)\n",
    "    return output, attention_weights\n",
    "\n",
    "# Multi-Head Attention mechanism\n",
    "class MultiHeadAttention(tf.keras.layers.Layer):\n",
    "    def __init__(self, d_model, num_heads):\n",
    "        super(MultiHeadAttention, self).__init__()\n",
    "        # getting number of attention heads and model dimension\n",
    "        self.num_heads = num_heads\n",
    "        self.d_model = d_model\n",
    "        # Ensure that d_model is divisible by the number of heads\n",
    "        assert d_model % self.num_heads == 0\n",
    "        # this is a depth of each head\n",
    "        self.depth = d_model // self.num_heads\n",
    "        # Dense layers (fully connected layers) to project the input for each head\n",
    "        self.wq = tf.keras.layers.Dense(d_model)\n",
    "        self.wk = tf.keras.layers.Dense(d_model)\n",
    "        self.wv = tf.keras.layers.Dense(d_model)\n",
    "        # Final dense layer to merge the outputs from all attention heads\n",
    "        self.dense = tf.keras.layers.Dense(d_model)\n",
    "     # this function to split the input tensor into multiple heads\n",
    "    def split_heads(self, x, batch_size):\n",
    "        x = tf.reshape(x, (batch_size, -1, self.num_heads, self.depth))\n",
    "        return tf.transpose(x, perm=[0, 2, 1, 3])\n",
    "    # now we will project the query, key, and value using the respective dense layers for each head in this function \n",
    "    def call(self, q, k, v, mask):\n",
    "        batch_size = tf.shape(q)[0]\n",
    "\n",
    "        q = self.split_heads(self.wq(q), batch_size)\n",
    "        k = self.split_heads(self.wk(k), batch_size)\n",
    "        v = self.split_heads(self.wv(v), batch_size)\n",
    "        # we will call scaled dot-product attention for each head to apply it and get\n",
    "        # weights or patterns captured from text\n",
    "        scaled_attention, attention_weights = scaled_dot_product_attention(q, k, v, mask)\n",
    "\n",
    "        scaled_attention = tf.transpose(scaled_attention, perm=[0, 2, 1, 3])\n",
    "        #Transpose and reshape to combine attention outputs from all heads\n",
    "        concat_attention = tf.reshape(scaled_attention, (batch_size, -1, self.d_model))\n",
    "\n",
    "        output = self.dense(concat_attention)\n",
    "        return output, attention_weights"
   ]
  },
  {
   "cell_type": "markdown",
   "metadata": {},
   "source": [
    "it will return attention-weighted values (weighting the values based on attention scores) and attention weights (which parts of the input were most important for generating the context)"
   ]
  },
  {
   "cell_type": "markdown",
   "metadata": {},
   "source": [
    "# Position-wise Feed-Forward Networks"
   ]
  },
  {
   "cell_type": "markdown",
   "metadata": {},
   "source": [
    "this function to feed forward through the network by get dimention of layers and return the output after applying relu activation function"
   ]
  },
  {
   "cell_type": "code",
   "execution_count": 20,
   "metadata": {},
   "outputs": [],
   "source": [
    "# Feed Forward Network\n",
    "def feed_forward_network(d_model, dff):\n",
    "    return tf.keras.Sequential([\n",
    "        tf.keras.layers.Dense(dff, activation='relu'),\n",
    "        tf.keras.layers.Dense(d_model)\n",
    "    ])"
   ]
  },
  {
   "cell_type": "markdown",
   "metadata": {},
   "source": [
    "# Positional Encoding"
   ]
  },
  {
   "cell_type": "markdown",
   "metadata": {},
   "source": [
    "Positional encoding in a transformer adds unique embeddings to input tokens, allowing the model to consider the order of words in the input sequence, addressing the lack of inherent sequence information in self-attention mechanisms"
   ]
  },
  {
   "cell_type": "code",
   "execution_count": 21,
   "metadata": {},
   "outputs": [],
   "source": [
    "# Positional encoding\n",
    "def positional_encoding(position, d_model):\n",
    "    # Calculate a set of angles to encode positional information\n",
    "    angle_rads = 1 / np.power(10000, (2 * (np.arange(d_model) // 2)) / np.float32(d_model))\n",
    "    # Reshape the angles to have a shape of (1, d_model)\n",
    "    angle_rads = np.reshape(angle_rads, (1, -1))\n",
    "    # Create an array of positions from 0 to 'position' and reshape it to (position, 1).\n",
    "    pos = np.arange(position)[:, np.newaxis]\n",
    "    pos_enc = pos * angle_rads\n",
    "    # Apply sine to even indices and cosine to odd indices to create positional encodings.\n",
    "    pos_enc[:, 0::2] = np.sin(pos_enc[:, 0::2])  \n",
    "    pos_enc[:, 1::2] = np.cos(pos_enc[:, 1::2])  \n",
    "    # Convert the positional encodings to a TensorFlow tensor with shape (1, position, d_model).\n",
    "    pos_enc = tf.convert_to_tensor(pos_enc[np.newaxis, ...], dtype=tf.float32)\n",
    "    return pos_enc"
   ]
  },
  {
   "cell_type": "markdown",
   "metadata": {},
   "source": [
    "after applying positional encoding we address each word to not waste it and converting input text to encoded text  "
   ]
  },
  {
   "cell_type": "markdown",
   "metadata": {},
   "source": [
    "# Encoder Layer"
   ]
  },
  {
   "cell_type": "markdown",
   "metadata": {},
   "source": [
    "Encoder layer for a transformer-based model. It consists of multiple encoder layers, each comprising multi-head self-attention and feed-forward sublayers. The encoder processes input data, adds positional encodings, and applies the specified number of layers to capture **complex patterns and relationships within the data**. It returns the processed output i will use 2 normalization layers and 2 dropout with rate 0.1 (drop 10% of weights) to avoid overfitting"
   ]
  },
  {
   "cell_type": "markdown",
   "metadata": {},
   "source": [
    "The EncoderLayer function processes input with multi-head self-attention and feed-forward sublayers, applying normalization and dropout, enhancing feature representations"
   ]
  },
  {
   "cell_type": "code",
   "execution_count": 22,
   "metadata": {},
   "outputs": [],
   "source": [
    "# Encoder Layer\n",
    "class EncoderLayer(tf.keras.layers.Layer):\n",
    "    def __init__(self, d_model, num_heads, dff, dropout_rate):\n",
    "        super(EncoderLayer, self).__init__()\n",
    "        # we call Multi-Head Self-Attention Mechanism class and feed froward function\n",
    "        self.mha = MultiHeadAttention(d_model, num_heads)\n",
    "        self.ffn = feed_forward_network(d_model, dff)\n",
    "        # Layer Normalization after Self-Attention and Feed-Forward\n",
    "        self.layernorm1 = tf.keras.layers.LayerNormalization(epsilon=1e-6)\n",
    "        self.layernorm2 = tf.keras.layers.LayerNormalization(epsilon=1e-6)\n",
    "        # Dropout Layers for Regularization\n",
    "        self.dropout1 = tf.keras.layers.Dropout(dropout_rate)\n",
    "        self.dropout2 = tf.keras.layers.Dropout(dropout_rate)\n",
    "\n",
    "    # in this we apply and pass variables to get the output\n",
    "    def call(self, x, training, mask):\n",
    "        attn_output, _ = self.mha(x, x, x, mask)\n",
    "        attn_output = self.dropout1(attn_output, training=training)\n",
    "        out1 = self.layernorm1(x + attn_output)\n",
    "\n",
    "        ffn_output = self.ffn(out1)\n",
    "        ffn_output = self.dropout2(ffn_output, training=training)\n",
    "        out2 = self.layernorm2(out1 + ffn_output)\n",
    "\n",
    "        return out2"
   ]
  },
  {
   "cell_type": "markdown",
   "metadata": {},
   "source": [
    "The Encoder class processes input data through multiple encoder layers in a transformer model. It includes embedding, positional encoding, and stacking of EncoderLayer instances to capture complex patterns and relationships"
   ]
  },
  {
   "cell_type": "code",
   "execution_count": 23,
   "metadata": {},
   "outputs": [],
   "source": [
    "# Encoder\n",
    "class Encoder(tf.keras.layers.Layer):\n",
    "    def __init__(self, num_layers, d_model, num_heads, dff, input_vocab_size, max_position_encoding, dropout_rate=0.1):\n",
    "        super(Encoder, self).__init__()\n",
    "        # model hyperparameters\n",
    "        self.d_model = d_model\n",
    "        self.num_layers = num_layers\n",
    "        # Embedding Layer for Input Tokens (convert text to numeric)\n",
    "        self.embedding = tf.keras.layers.Embedding(input_vocab_size, d_model)\n",
    "        # Positional Encoding to Capture Token Positions\n",
    "        self.pos_encoding = positional_encoding(max_position_encoding, d_model)\n",
    "\n",
    "        self.enc_layers = [EncoderLayer(d_model, num_heads, dff, dropout_rate) for _ in range(num_layers)]\n",
    "\n",
    "        self.dropout = tf.keras.layers.Dropout(dropout_rate)\n",
    "\n",
    "    def call(self, x, training, mask):\n",
    "        seq_len = tf.shape(x)[1]\n",
    "\n",
    "        x = self.embedding(x)\n",
    "        x *= tf.math.sqrt(tf.cast(self.d_model, tf.float32))\n",
    "        x += self.pos_encoding[:, :seq_len, :]\n",
    "\n",
    "        x = self.dropout(x, training=training)\n",
    "        # this take number of layers \n",
    "        # to get multiple encoder layers\n",
    "        for i in range(self.num_layers):\n",
    "            x = self.enc_layers[i](x, training, mask)\n",
    "\n",
    "        return x"
   ]
  },
  {
   "cell_type": "markdown",
   "metadata": {},
   "source": [
    "i saperate between encoder and encoder layer because i take object from encoder layer to make it as a unit that i can give parameter number of layers and will repeated many times to create number of layers i want to transformer contain "
   ]
  },
  {
   "cell_type": "markdown",
   "metadata": {},
   "source": [
    "# Final Transformer"
   ]
  },
  {
   "cell_type": "markdown",
   "metadata": {},
   "source": [
    "Finaly i combine them into class Transformer to create from it object to create my transformer with my hyperparameter values i will pass it through the objected created from class transformer"
   ]
  },
  {
   "cell_type": "code",
   "execution_count": 24,
   "metadata": {},
   "outputs": [],
   "source": [
    "# Define the binary classification model\n",
    "class Transformer(tf.keras.Model):\n",
    "    def __init__(self, num_layers, d_model, num_heads, dff, input_vocab_size, max_position_encoding):\n",
    "        super(Transformer, self).__init__()\n",
    "\n",
    "        self.encoder = Encoder(num_layers, d_model, num_heads, dff, input_vocab_size, max_position_encoding)\n",
    "        # Applying sigmoid activation for binary classification\n",
    "        self.final_layer = tf.keras.layers.Dense(1, activation='sigmoid')  \n",
    "\n",
    "    def call(self, inp, training, mask):\n",
    "        enc_output = self.encoder(inp, training, mask)\n",
    "        # Average pooling over sequence length\n",
    "        # to adapt length of the output\n",
    "        final_output = self.final_layer(tf.reduce_mean(enc_output, axis=1))  \n",
    "        return final_output"
   ]
  },
  {
   "cell_type": "markdown",
   "metadata": {},
   "source": [
    "# **Data preparing to use it in Transformer**"
   ]
  },
  {
   "cell_type": "markdown",
   "metadata": {},
   "source": [
    "# select featuers and labels and split data to train and test and validation"
   ]
  },
  {
   "cell_type": "markdown",
   "metadata": {},
   "source": [
    "we will select the data after that split it to traini 40% training , 30% testing and 30% validtain i split to 40% because my new data is oversampled so it has 288554 sampple so wi will train on 115421 sample so i think is enough for training our the model"
   ]
  },
  {
   "cell_type": "code",
   "execution_count": 43,
   "metadata": {},
   "outputs": [],
   "source": [
    "# Now we will select features and labels \n",
    "# feature is text from cleaned_comment_text colum\n",
    "comments = balanced_data[\"cleaned_comment_text\"].values\n",
    "#labels is bad_comment column\n",
    "labels = balanced_data[\"bad_comment\"].values\n",
    "\n",
    "# Split the data into training (40%) and combined validation/test (60%)\n",
    "train_texts, val_test_texts, train_labels, val_test_labels = train_test_split(comments, labels, test_size=0.6, random_state=42)\n",
    "\n",
    "# Split the combined validation/test set into separate validation (50%) and test (50%)\n",
    "val_texts, test_texts, val_labels, test_labels = train_test_split(val_test_texts, val_test_labels, test_size=0.5, random_state=42)"
   ]
  },
  {
   "cell_type": "markdown",
   "metadata": {},
   "source": [
    "after splitting i will tokanize , padding , encode and convering to tensor to make my input is valid to work into transformer"
   ]
  },
  {
   "cell_type": "markdown",
   "metadata": {},
   "source": [
    "# Tokenize , padding , encoding and converting to tensor type "
   ]
  },
  {
   "cell_type": "markdown",
   "metadata": {},
   "source": [
    "first we will tokanise the sentence into words and get the voacbulary size and convert this vocabluaries to integer sequences (encoding)  "
   ]
  },
  {
   "cell_type": "code",
   "execution_count": 26,
   "metadata": {},
   "outputs": [],
   "source": [
    "# Tokenization\n",
    "tokenizer = Tokenizer()\n",
    "tokenizer.fit_on_texts(comments)\n",
    "\n",
    "# Getting Vocabulary size\n",
    "vocab_size = len(tokenizer.word_index) + 1  \n",
    "\n",
    "# Padding and Truncation\n",
    "# i adjust this number \n",
    "# because max_seq_length of data is grater than 4900 \n",
    "# so i use this number\n",
    "max_seq_length = 128  \n",
    "\n",
    "# Tokenize and preprocess the text data for training, validation, and test\n",
    "# and make train_sequences and val test sequences in numeric type\n",
    "train_sequences = tokenizer.texts_to_sequences(train_texts)\n",
    "val_sequences = tokenizer.texts_to_sequences(val_texts)\n",
    "test_sequences = tokenizer.texts_to_sequences(test_texts)"
   ]
  },
  {
   "cell_type": "markdown",
   "metadata": {},
   "source": [
    "we have 3 sets in integer sequences now we will pad and converting padded sequences will convert it to tensor type to make run into tensorflow framwork"
   ]
  },
  {
   "cell_type": "code",
   "execution_count": 27,
   "metadata": {},
   "outputs": [],
   "source": [
    "# padding that fill with less length secntece with zero\n",
    "# pad text to make all of sentences are the same length \n",
    "train_input_ids = pad_sequences(train_sequences, maxlen=max_seq_length, padding='post', truncating='post')\n",
    "val_input_ids = pad_sequences(val_sequences, maxlen=max_seq_length, padding='post', truncating='post')\n",
    "test_input_ids = pad_sequences(test_sequences, maxlen=max_seq_length, padding='post', truncating='post')\n",
    "\n",
    "# Convert to TensorFlow Tensors training , validating and testing sets after padded and encoded and tokanised\n",
    "train_input_ids = tf.constant(train_input_ids)\n",
    "val_input_ids = tf.constant(val_input_ids)\n",
    "test_input_ids = tf.constant(test_input_ids)"
   ]
  },
  {
   "cell_type": "markdown",
   "metadata": {},
   "source": [
    "now our data is in standerd form to train on it so we will prepare our model and data to train on it"
   ]
  },
  {
   "cell_type": "markdown",
   "metadata": {},
   "source": [
    "# preparing model and data to train on it"
   ]
  },
  {
   "cell_type": "markdown",
   "metadata": {},
   "source": [
    "we will define hyperparameters that will send to our transformer to train it "
   ]
  },
  {
   "cell_type": "code",
   "execution_count": 31,
   "metadata": {},
   "outputs": [],
   "source": [
    "# Define the hyperparameters\n",
    "vocab_size = vocab_size # vocabluary length \n",
    "d_model = 256 #the dimensionality of the model's hidden states,A larger d_model can capture more complex patterns but may require more computational resources\n",
    "num_heads = 4 # number of heads of transformer if we Increasing the number of heads can improve the model's ability to capture different types of relationships in the data\n",
    "num_layers = 2 # number of transformer layers \n",
    "dff = 265 # dff specifies the dimension of the hidden layer,This layer follows the multi-head self-attention layer. A larger dff can make the model more expressive but might require more resources\n",
    "batch_size = 32 # splitting data into 32 sample in each batch\n",
    "num_epochs = 5  # Replace with the number of epochs you want to run"
   ]
  },
  {
   "cell_type": "markdown",
   "metadata": {},
   "source": [
    "now we creat datasets contain inputs and their outputs to extract it when training and testing the model with batch size 32 sample for each batch"
   ]
  },
  {
   "cell_type": "code",
   "execution_count": 32,
   "metadata": {},
   "outputs": [],
   "source": [
    "# Create TensorFlow Datasets for training, validation, and testing\n",
    "# thats combine each text with their labels \n",
    "# and split it into batches \n",
    "train_dataset = tf.data.Dataset.from_tensor_slices((train_input_ids, train_labels)).batch(batch_size)\n",
    "val_dataset = tf.data.Dataset.from_tensor_slices((val_input_ids, val_labels)).batch(batch_size)\n",
    "test_dataset = tf.data.Dataset.from_tensor_slices((test_input_ids, test_labels)).batch(batch_size)"
   ]
  },
  {
   "cell_type": "markdown",
   "metadata": {},
   "source": [
    "now we take from tensorflow objects from class transformer , losses and optimazers to initalize our transformer and loss function to calculate the gradient and optemizer to update weights in backprobagation we will use binary cross entorpy because we have binary classification and optimazer adam because it adapts learning rate to get the best learnable updated"
   ]
  },
  {
   "cell_type": "code",
   "execution_count": 33,
   "metadata": {},
   "outputs": [],
   "source": [
    "# Initialize the binary classifier model\n",
    "# Define the binary cross-entropy loss and optimaizer\n",
    "Transformer_classifier = Transformer(num_layers, d_model, num_heads, dff, vocab_size, max_seq_length)\n",
    "loss_object = tf.keras.losses.BinaryCrossentropy()\n",
    "optimizer = tf.keras.optimizers.Adam(learning_rate=0.001)"
   ]
  },
  {
   "cell_type": "markdown",
   "metadata": {},
   "source": [
    "this function i use it to create the mask of each set in training and testing to shape thats takes input sequences, typically representing text, and creates a binary mask. It sets 1 for valid positions and 0 for padding positions, expanding dimensions for model compatibility."
   ]
  },
  {
   "cell_type": "code",
   "execution_count": 34,
   "metadata": {},
   "outputs": [],
   "source": [
    "# Define a function to create masks based on input sequences\n",
    "def mask_creator(inputs):\n",
    "    # Create a mask of shape (batch_size, seq_length)\n",
    "    mask = tf.math.logical_not(tf.math.equal(inputs, 0))\n",
    "    mask = tf.cast(mask, dtype=tf.float32)\n",
    "    # Expand dimensions to match the model's expectations\n",
    "    mask = mask[:, tf.newaxis, tf.newaxis, :]  \n",
    "    return mask  "
   ]
  },
  {
   "cell_type": "markdown",
   "metadata": {},
   "source": [
    "it just a train step to perform a training step for our Transformer it computes predictions, calculates the loss, computes gradients, and updates model weights using an optimizer. It returns the loss. "
   ]
  },
  {
   "cell_type": "code",
   "execution_count": 35,
   "metadata": {},
   "outputs": [],
   "source": [
    "# Training step\n",
    "@tf.function\n",
    "def train_step(inputs, targets):\n",
    "    with tf.GradientTape() as tape:\n",
    "        # get output from transformer after train in sample batched\n",
    "        predictions = Transformer_classifier(inputs, True, mask_creator(inputs))\n",
    "        # calculate the loss \n",
    "        loss = loss_object(targets, predictions)\n",
    "    #compute the gradient for each batch\n",
    "    gradients = tape.gradient(loss, Transformer_classifier.trainable_variables)\n",
    "    # apply the optimazer\n",
    "    optimizer.apply_gradients(zip(gradients, Transformer_classifier.trainable_variables))\n",
    "    # and return the loss\n",
    "    return loss"
   ]
  },
  {
   "cell_type": "markdown",
   "metadata": {},
   "source": [
    "# Train and Evaluate Our Transformer"
   ]
  },
  {
   "cell_type": "markdown",
   "metadata": {},
   "source": [
    "In This training loop we will iterates through multiple epochs, evaluating a Transformer on training and validation datasets. It computes loss, updates accuracy metrics, and prints training and validation progress"
   ]
  },
  {
   "cell_type": "code",
   "execution_count": 37,
   "metadata": {},
   "outputs": [
    {
     "name": "stdout",
     "output_type": "stream",
     "text": [
      "Epoch 1:\n",
      "Training Loss: 0.4437, Training Accuracy: 0.8184\n",
      "Validation Loss: 0.3730, Validation Accuracy: 0.8459\n",
      "Epoch 2:\n",
      "Training Loss: 0.3424, Training Accuracy: 0.8616\n",
      "Validation Loss: 0.3684, Validation Accuracy: 0.8497\n",
      "Epoch 3:\n",
      "Training Loss: 0.2914, Training Accuracy: 0.8889\n",
      "Validation Loss: 0.2877, Validation Accuracy: 0.8834\n",
      "Epoch 4:\n",
      "Training Loss: 0.2808, Training Accuracy: 0.8903\n",
      "Validation Loss: 0.3191, Validation Accuracy: 0.8764\n",
      "Epoch 5:\n",
      "Training Loss: 0.2632, Training Accuracy: 0.9002\n",
      "Validation Loss: 0.2834, Validation Accuracy: 0.8876\n"
     ]
    }
   ],
   "source": [
    "# Training loop\n",
    "for epoch in range(num_epochs):\n",
    "    # Training step\n",
    "    # this parameters to calculate training loss \n",
    "    # number of trained batches\n",
    "    total_training_loss = 0.0\n",
    "    num_training_batches = 0\n",
    "    # define the accuracy matric will use binary accuracy because our problem is binary classification\n",
    "    training_accuracy_metric = tf.keras.metrics.BinaryAccuracy()\n",
    "\n",
    "    # train on training dataset\n",
    "    for batch in train_dataset:\n",
    "        # extract inputs and labels from each batch  \n",
    "        inputs, targets = batch\n",
    "        # calculate loss  \n",
    "        loss = train_step(inputs, targets)\n",
    "        # total loss to get total loss in training\n",
    "        # and to get accuracy of training \n",
    "        total_training_loss += loss\n",
    "        num_training_batches += 1\n",
    "        predictions = Transformer_classifier(inputs, False, mask_creator(inputs))\n",
    "        training_accuracy_metric.update_state(targets, predictions)\n",
    "\n",
    "    training_loss = total_training_loss / num_training_batches\n",
    "    training_accuracy = training_accuracy_metric.result().numpy()\n",
    "\n",
    "    # Validation step\n",
    "    total_validation_loss = 0.0\n",
    "    num_validation_batches = 0\n",
    "    validation_accuracy_metric = tf.keras.metrics.BinaryAccuracy()\n",
    "\n",
    "    # validate model using validation dataset\n",
    "    # we will repeat we did in training to validation\n",
    "    for batch in val_dataset:  \n",
    "        inputs, targets = batch  \n",
    "        mask = mask_creator(inputs)\n",
    "        predictions = Transformer_classifier(inputs, False, mask)\n",
    "        loss = loss_object(targets, predictions)\n",
    "        total_validation_loss += loss\n",
    "        num_validation_batches += 1\n",
    "        validation_accuracy_metric.update_state(targets, predictions)\n",
    "\n",
    "    validation_loss = total_validation_loss / num_validation_batches\n",
    "    validation_accuracy = validation_accuracy_metric.result().numpy()\n",
    "    # finally we will print training loss and accuracy and also in validation for each epoch\n",
    "    print(f\"Epoch {epoch + 1}:\")\n",
    "    print(f\"Training Loss: {training_loss:.4f}, Training Accuracy: {training_accuracy:.4f}\")\n",
    "    print(f\"Validation Loss: {validation_loss:.4f}, Validation Accuracy: {validation_accuracy:.4f}\")"
   ]
  },
  {
   "cell_type": "markdown",
   "metadata": {},
   "source": [
    "from the output we have high accuracy in validation and training it make model is good and paramter of the model is good because resorces and light i run only 5 epochs i think if i run much than epochs will give me higher accuracy but to sure model is well we must test this model to see if is overfitted or not so in the next step we will test the model"
   ]
  },
  {
   "cell_type": "markdown",
   "metadata": {},
   "source": [
    "we saved the weight to test on it or start new training but not from beginning but from last training and saved weights"
   ]
  },
  {
   "cell_type": "code",
   "execution_count": 38,
   "metadata": {},
   "outputs": [],
   "source": [
    "# Save weights at the end of the epoch\n",
    "Transformer_classifier.save_weights(\"Transformer_from_scratch.ckpt\")"
   ]
  },
  {
   "cell_type": "markdown",
   "metadata": {},
   "source": [
    "we will initialize metrics and performs testing on a Transformer using a test dataset. It calculates test loss and accuracy, as well as precision, recall, and F1 score for binary classification, and prints the test results, this helping us to evaluate the model's performance"
   ]
  },
  {
   "cell_type": "code",
   "execution_count": 40,
   "metadata": {},
   "outputs": [],
   "source": [
    "# Initialize metrics\n",
    "test_accuracy_metric = tf.keras.metrics.BinaryAccuracy()\n",
    "total_test_loss = 0.0\n",
    "num_test_batches = 0\n",
    "all_true_labels = []\n",
    "all_predictions = []\n",
    "\n",
    "# Testing loop\n",
    "for batch in test_dataset:\n",
    "    inputs, targets = batch\n",
    "    mask = mask_creator(inputs)\n",
    "    # Set training to False for make transformer not train but just classify and predict the output\n",
    "    predictions = Transformer_classifier(inputs, training=False, mask=mask)  \n",
    "    loss = loss_object(targets, predictions)\n",
    "    total_test_loss += loss\n",
    "    num_test_batches += 1\n",
    "    test_accuracy_metric.update_state(targets, predictions)\n",
    "    \n",
    "    # Append true labels and predictions for F1 score calculation\n",
    "    all_true_labels.append(targets)\n",
    "    all_predictions.append(predictions)\n",
    "\n",
    "# Calculate test metrics\n",
    "test_loss = total_test_loss / num_test_batches\n",
    "test_accuracy = test_accuracy_metric.result().numpy()\n",
    "\n",
    "# Flatten the lists of true labels and predictions\n",
    "all_true_labels = tf.concat(all_true_labels, axis=0)\n",
    "all_predictions = tf.concat(all_predictions, axis=0)\n",
    "\n",
    "# Convert predictions to binary values (0 or 1)\n",
    "binary_predictions = tf.cast(tf.round(all_predictions), dtype=tf.int32)\n"
   ]
  },
  {
   "cell_type": "code",
   "execution_count": 42,
   "metadata": {},
   "outputs": [
    {
     "name": "stdout",
     "output_type": "stream",
     "text": [
      "Precision: 0.8878\n",
      "Recall: 0.8872\n",
      "F1 Score: 0.8872\n"
     ]
    }
   ],
   "source": [
    "# Ensure true labels and predictions are on the CPU\n",
    "all_true_labels = all_true_labels.numpy()  # Convert TensorFlow tensor to NumPy array\n",
    "binary_predictions = binary_predictions.numpy()\n",
    "\n",
    "# Calculate precision, recall, and F1 score\n",
    "precision = precision_score(all_true_labels, binary_predictions, average='weighted')\n",
    "recall = recall_score(all_true_labels, binary_predictions, average='weighted')\n",
    "f1 = f1_score(all_true_labels, binary_predictions, average='weighted')\n",
    "\n",
    "print(f\"Precision: {precision:.4f}\")\n",
    "print(f\"Recall: {recall:.4f}\")\n",
    "print(f\"F1 Score: {f1:.4f}\")"
   ]
  },
  {
   "cell_type": "markdown",
   "metadata": {},
   "source": [
    "after test our model we found test loss is 0.2862 and a test accuracy of 88.78%. The precision is 88.72%, recall is 88.72%, and the F1 score is 88.48%, indicating good model performance for binary classification in our model and i use Precision and Recall to evaluate what is model do in toxic comment and non-toxic comment so i find that because **Precision** is high so model classify comment is non-toxic correctly and good in it and find **recall** is also high so my model classify well if we have toxic comment so this model is doing well in both of classes "
   ]
  },
  {
   "cell_type": "markdown",
   "metadata": {},
   "source": [
    "# *Pre trained model BERT*"
   ]
  },
  {
   "cell_type": "code",
   "execution_count": 2,
   "metadata": {},
   "outputs": [],
   "source": [
    "# Load tokenizer\n",
    "tokenizer = AutoTokenizer.from_pretrained(\"bert-base-uncased\")"
   ]
  },
  {
   "cell_type": "markdown",
   "metadata": {},
   "source": [
    "# Reading data and split it into training , validaion and testing sets"
   ]
  },
  {
   "cell_type": "code",
   "execution_count": 3,
   "metadata": {},
   "outputs": [],
   "source": [
    "final_data = pd.read_csv(r\"D:\\FCDS\\semster 7\\NLP\\Project\\balanced_data.csv\")\n",
    "\n",
    "# Now we will select features and labels \n",
    "# feature is text from cleaned_comment_text colum\n",
    "comments = final_data[\"cleaned_comment_text\"].values\n",
    "#labels is bad_comment column\n",
    "labels = final_data[\"bad_comment\"].values"
   ]
  },
  {
   "cell_type": "code",
   "execution_count": 48,
   "metadata": {},
   "outputs": [
    {
     "data": {
      "text/html": [
       "<div>\n",
       "<style scoped>\n",
       "    .dataframe tbody tr th:only-of-type {\n",
       "        vertical-align: middle;\n",
       "    }\n",
       "\n",
       "    .dataframe tbody tr th {\n",
       "        vertical-align: top;\n",
       "    }\n",
       "\n",
       "    .dataframe thead th {\n",
       "        text-align: right;\n",
       "    }\n",
       "</style>\n",
       "<table border=\"1\" class=\"dataframe\">\n",
       "  <thead>\n",
       "    <tr style=\"text-align: right;\">\n",
       "      <th></th>\n",
       "      <th>id</th>\n",
       "      <th>comment_text</th>\n",
       "      <th>toxic</th>\n",
       "      <th>severe_toxic</th>\n",
       "      <th>obscene</th>\n",
       "      <th>threat</th>\n",
       "      <th>insult</th>\n",
       "      <th>identity_hate</th>\n",
       "      <th>cleaned_comment_text</th>\n",
       "      <th>bad_comment</th>\n",
       "    </tr>\n",
       "  </thead>\n",
       "  <tbody>\n",
       "    <tr>\n",
       "      <th>0</th>\n",
       "      <td>0000997932d777bf</td>\n",
       "      <td>Explanation\\nWhy the edits made under my usern...</td>\n",
       "      <td>0</td>\n",
       "      <td>0</td>\n",
       "      <td>0</td>\n",
       "      <td>0</td>\n",
       "      <td>0</td>\n",
       "      <td>0</td>\n",
       "      <td>explanation edit make username hardcore metall...</td>\n",
       "      <td>0</td>\n",
       "    </tr>\n",
       "    <tr>\n",
       "      <th>1</th>\n",
       "      <td>000103f0d9cfb60f</td>\n",
       "      <td>D'aww! He matches this background colour I'm s...</td>\n",
       "      <td>0</td>\n",
       "      <td>0</td>\n",
       "      <td>0</td>\n",
       "      <td>0</td>\n",
       "      <td>0</td>\n",
       "      <td>0</td>\n",
       "      <td>daww match background colour im seemingly stic...</td>\n",
       "      <td>0</td>\n",
       "    </tr>\n",
       "    <tr>\n",
       "      <th>2</th>\n",
       "      <td>000113f07ec002fd</td>\n",
       "      <td>Hey man, I'm really not trying to edit war. It...</td>\n",
       "      <td>0</td>\n",
       "      <td>0</td>\n",
       "      <td>0</td>\n",
       "      <td>0</td>\n",
       "      <td>0</td>\n",
       "      <td>0</td>\n",
       "      <td>hey man im really try edit war guy constantly ...</td>\n",
       "      <td>0</td>\n",
       "    </tr>\n",
       "    <tr>\n",
       "      <th>3</th>\n",
       "      <td>0001b41b1c6bb37e</td>\n",
       "      <td>\"\\nMore\\nI can't make any real suggestions on ...</td>\n",
       "      <td>0</td>\n",
       "      <td>0</td>\n",
       "      <td>0</td>\n",
       "      <td>0</td>\n",
       "      <td>0</td>\n",
       "      <td>0</td>\n",
       "      <td>cant make real suggestion improvement wonder s...</td>\n",
       "      <td>0</td>\n",
       "    </tr>\n",
       "    <tr>\n",
       "      <th>4</th>\n",
       "      <td>0001d958c54c6e35</td>\n",
       "      <td>You, sir, are my hero. Any chance you remember...</td>\n",
       "      <td>0</td>\n",
       "      <td>0</td>\n",
       "      <td>0</td>\n",
       "      <td>0</td>\n",
       "      <td>0</td>\n",
       "      <td>0</td>\n",
       "      <td>sir hero chance remember page thats</td>\n",
       "      <td>0</td>\n",
       "    </tr>\n",
       "    <tr>\n",
       "      <th>...</th>\n",
       "      <td>...</td>\n",
       "      <td>...</td>\n",
       "      <td>...</td>\n",
       "      <td>...</td>\n",
       "      <td>...</td>\n",
       "      <td>...</td>\n",
       "      <td>...</td>\n",
       "      <td>...</td>\n",
       "      <td>...</td>\n",
       "      <td>...</td>\n",
       "    </tr>\n",
       "    <tr>\n",
       "      <th>288549</th>\n",
       "      <td>aaefa83a633d173a</td>\n",
       "      <td>THAKSIN IS A FXXCKING THIEF AND SHOULD BE SHOT...</td>\n",
       "      <td>1</td>\n",
       "      <td>0</td>\n",
       "      <td>1</td>\n",
       "      <td>1</td>\n",
       "      <td>1</td>\n",
       "      <td>0</td>\n",
       "      <td>thaksin fxxcking thief shoot anf kill family m...</td>\n",
       "      <td>1</td>\n",
       "    </tr>\n",
       "    <tr>\n",
       "      <th>288550</th>\n",
       "      <td>4b3c47434bbdc3dd</td>\n",
       "      <td>Clone Saga Sucks \\nThis article needs more inf...</td>\n",
       "      <td>1</td>\n",
       "      <td>0</td>\n",
       "      <td>1</td>\n",
       "      <td>0</td>\n",
       "      <td>1</td>\n",
       "      <td>0</td>\n",
       "      <td>clone saga suck article need info everyone hat...</td>\n",
       "      <td>1</td>\n",
       "    </tr>\n",
       "    <tr>\n",
       "      <th>288551</th>\n",
       "      <td>107726c474021958</td>\n",
       "      <td>Wanker \\n\\nCharles Knight is a complete arse w...</td>\n",
       "      <td>1</td>\n",
       "      <td>0</td>\n",
       "      <td>1</td>\n",
       "      <td>0</td>\n",
       "      <td>1</td>\n",
       "      <td>0</td>\n",
       "      <td>wanker charles knight complete arse wipe</td>\n",
       "      <td>1</td>\n",
       "    </tr>\n",
       "    <tr>\n",
       "      <th>288552</th>\n",
       "      <td>61e0a927a0f94722</td>\n",
       "      <td>EPic Fail 333 \\n\\nI am FREAKING SERIOUS!!!\\n\\n...</td>\n",
       "      <td>1</td>\n",
       "      <td>0</td>\n",
       "      <td>0</td>\n",
       "      <td>0</td>\n",
       "      <td>0</td>\n",
       "      <td>0</td>\n",
       "      <td>epic fail freak serious block fail goodbye</td>\n",
       "      <td>1</td>\n",
       "    </tr>\n",
       "    <tr>\n",
       "      <th>288553</th>\n",
       "      <td>83c25e7c3276cd89</td>\n",
       "      <td>Oppose Iset? Crazy.</td>\n",
       "      <td>1</td>\n",
       "      <td>0</td>\n",
       "      <td>0</td>\n",
       "      <td>0</td>\n",
       "      <td>0</td>\n",
       "      <td>0</td>\n",
       "      <td>oppose iset crazy</td>\n",
       "      <td>1</td>\n",
       "    </tr>\n",
       "  </tbody>\n",
       "</table>\n",
       "<p>288554 rows × 10 columns</p>\n",
       "</div>"
      ],
      "text/plain": [
       "                      id                                       comment_text  \\\n",
       "0       0000997932d777bf  Explanation\\nWhy the edits made under my usern...   \n",
       "1       000103f0d9cfb60f  D'aww! He matches this background colour I'm s...   \n",
       "2       000113f07ec002fd  Hey man, I'm really not trying to edit war. It...   \n",
       "3       0001b41b1c6bb37e  \"\\nMore\\nI can't make any real suggestions on ...   \n",
       "4       0001d958c54c6e35  You, sir, are my hero. Any chance you remember...   \n",
       "...                  ...                                                ...   \n",
       "288549  aaefa83a633d173a  THAKSIN IS A FXXCKING THIEF AND SHOULD BE SHOT...   \n",
       "288550  4b3c47434bbdc3dd  Clone Saga Sucks \\nThis article needs more inf...   \n",
       "288551  107726c474021958  Wanker \\n\\nCharles Knight is a complete arse w...   \n",
       "288552  61e0a927a0f94722  EPic Fail 333 \\n\\nI am FREAKING SERIOUS!!!\\n\\n...   \n",
       "288553  83c25e7c3276cd89                                Oppose Iset? Crazy.   \n",
       "\n",
       "        toxic  severe_toxic  obscene  threat  insult  identity_hate  \\\n",
       "0           0             0        0       0       0              0   \n",
       "1           0             0        0       0       0              0   \n",
       "2           0             0        0       0       0              0   \n",
       "3           0             0        0       0       0              0   \n",
       "4           0             0        0       0       0              0   \n",
       "...       ...           ...      ...     ...     ...            ...   \n",
       "288549      1             0        1       1       1              0   \n",
       "288550      1             0        1       0       1              0   \n",
       "288551      1             0        1       0       1              0   \n",
       "288552      1             0        0       0       0              0   \n",
       "288553      1             0        0       0       0              0   \n",
       "\n",
       "                                     cleaned_comment_text  bad_comment  \n",
       "0       explanation edit make username hardcore metall...            0  \n",
       "1       daww match background colour im seemingly stic...            0  \n",
       "2       hey man im really try edit war guy constantly ...            0  \n",
       "3       cant make real suggestion improvement wonder s...            0  \n",
       "4                     sir hero chance remember page thats            0  \n",
       "...                                                   ...          ...  \n",
       "288549  thaksin fxxcking thief shoot anf kill family m...            1  \n",
       "288550  clone saga suck article need info everyone hat...            1  \n",
       "288551           wanker charles knight complete arse wipe            1  \n",
       "288552         epic fail freak serious block fail goodbye            1  \n",
       "288553                                  oppose iset crazy            1  \n",
       "\n",
       "[288554 rows x 10 columns]"
      ]
     },
     "execution_count": 48,
     "metadata": {},
     "output_type": "execute_result"
    }
   ],
   "source": [
    "final_data"
   ]
  },
  {
   "cell_type": "code",
   "execution_count": 4,
   "metadata": {},
   "outputs": [],
   "source": [
    "# Split the data into training (40%) and combined validation/test (60%)\n",
    "train_texts, val_test_texts, train_labels, val_test_labels = train_test_split(comments, labels, test_size=0.6, random_state=42)\n",
    "\n",
    "# Split the combined validation/test set into separate validation (50%) and test (50%)\n",
    "val_texts, test_texts, val_labels, test_labels = train_test_split(val_test_texts, val_test_labels, test_size=0.5, random_state=42)\n",
    "\n",
    "# Convert numpy arrays to Python lists\n",
    "train_texts = train_texts.tolist()\n",
    "val_texts = val_texts.tolist()\n",
    "test_texts = test_texts.tolist()\n",
    "\n",
    "# Ensure the elements are strings\n",
    "train_texts = list(map(str, train_texts))\n",
    "val_texts = list(map(str, val_texts))\n",
    "test_texts = list(map(str,test_texts))"
   ]
  },
  {
   "cell_type": "markdown",
   "metadata": {},
   "source": [
    "# Prepare data to BERT (Tokanize , Same length and , Tensor datatype) "
   ]
  },
  {
   "cell_type": "code",
   "execution_count": 5,
   "metadata": {},
   "outputs": [],
   "source": [
    "# Tokenization and dataset preparation\n",
    "train_encodings = tokenizer(list(train_texts), truncation=True, padding=True, max_length=128)\n",
    "val_encodings = tokenizer(list(val_texts), truncation=True, padding=True, max_length=128)\n",
    "test_encodings = tokenizer(list(test_texts), truncation=True, padding=True, max_length=128)\n",
    "\n",
    "# Convert to PyTorch tensors\n",
    "train_encodings = {key: torch.tensor(val) for key, val in train_encodings.items()}\n",
    "val_encodings = {key: torch.tensor(val) for key, val in val_encodings.items()}\n",
    "test_encodings = {key: torch.tensor(val) for key, val in test_encodings.items()}\n",
    "\n",
    "# Convert labels to tensors\n",
    "train_labels = torch.tensor(train_labels)\n",
    "val_labels = torch.tensor(val_labels)\n",
    "test_labels = torch.tensor(test_labels)\n",
    "\n",
    "# Create PyTorch Datasets\n",
    "class CustomDataset(torch.utils.data.Dataset):\n",
    "    def __init__(self, encodings, labels):\n",
    "        self.encodings = encodings\n",
    "        self.labels = labels\n",
    "\n",
    "    def __len__(self):\n",
    "        return len(self.labels)\n",
    "\n",
    "    def __getitem__(self, idx):\n",
    "        item = {key: val[idx] for key, val in self.encodings.items()}\n",
    "        item['labels'] = self.labels[idx]\n",
    "        return item\n",
    "\n",
    "train_dataset = CustomDataset(train_encodings, train_labels)\n",
    "val_dataset = CustomDataset(val_encodings, val_labels)\n",
    "test_dataset = CustomDataset(test_encodings, test_labels)"
   ]
  },
  {
   "cell_type": "markdown",
   "metadata": {},
   "source": [
    "Calling BERT for classification and freeze all layers except classification head to transfer learning on it with binary classification and i print all of trainable and frozen parameters to know what will train and what will not"
   ]
  },
  {
   "cell_type": "code",
   "execution_count": null,
   "metadata": {},
   "outputs": [
    {
     "name": "stderr",
     "output_type": "stream",
     "text": [
      "Some weights of BertForSequenceClassification were not initialized from the model checkpoint at bert-base-uncased and are newly initialized: ['classifier.bias', 'classifier.weight']\n",
      "You should probably TRAIN this model on a down-stream task to be able to use it for predictions and inference.\n",
      "c:\\Users\\mazen\\AppData\\Local\\Programs\\Python\\Python39\\lib\\site-packages\\transformers\\optimization.py:591: FutureWarning: This implementation of AdamW is deprecated and will be removed in a future version. Use the PyTorch implementation torch.optim.AdamW instead, or set `no_deprecation_warning=True` to disable this warning\n",
      "  warnings.warn(\n"
     ]
    },
    {
     "name": "stdout",
     "output_type": "stream",
     "text": [
      "bert.embeddings.word_embeddings.weight: Frozen\n",
      "bert.embeddings.position_embeddings.weight: Frozen\n",
      "bert.embeddings.token_type_embeddings.weight: Frozen\n",
      "bert.embeddings.LayerNorm.weight: Frozen\n",
      "bert.embeddings.LayerNorm.bias: Frozen\n",
      "bert.encoder.layer.0.attention.self.query.weight: Frozen\n",
      "bert.encoder.layer.0.attention.self.query.bias: Frozen\n",
      "bert.encoder.layer.0.attention.self.key.weight: Frozen\n",
      "bert.encoder.layer.0.attention.self.key.bias: Frozen\n",
      "bert.encoder.layer.0.attention.self.value.weight: Frozen\n",
      "bert.encoder.layer.0.attention.self.value.bias: Frozen\n",
      "bert.encoder.layer.0.attention.output.dense.weight: Frozen\n",
      "bert.encoder.layer.0.attention.output.dense.bias: Frozen\n",
      "bert.encoder.layer.0.attention.output.LayerNorm.weight: Frozen\n",
      "bert.encoder.layer.0.attention.output.LayerNorm.bias: Frozen\n",
      "bert.encoder.layer.0.intermediate.dense.weight: Frozen\n",
      "bert.encoder.layer.0.intermediate.dense.bias: Frozen\n",
      "bert.encoder.layer.0.output.dense.weight: Frozen\n",
      "bert.encoder.layer.0.output.dense.bias: Frozen\n",
      "bert.encoder.layer.0.output.LayerNorm.weight: Frozen\n",
      "bert.encoder.layer.0.output.LayerNorm.bias: Frozen\n",
      "bert.encoder.layer.1.attention.self.query.weight: Frozen\n",
      "bert.encoder.layer.1.attention.self.query.bias: Frozen\n",
      "bert.encoder.layer.1.attention.self.key.weight: Frozen\n",
      "bert.encoder.layer.1.attention.self.key.bias: Frozen\n",
      "bert.encoder.layer.1.attention.self.value.weight: Frozen\n",
      "bert.encoder.layer.1.attention.self.value.bias: Frozen\n",
      "bert.encoder.layer.1.attention.output.dense.weight: Frozen\n",
      "bert.encoder.layer.1.attention.output.dense.bias: Frozen\n",
      "bert.encoder.layer.1.attention.output.LayerNorm.weight: Frozen\n",
      "bert.encoder.layer.1.attention.output.LayerNorm.bias: Frozen\n",
      "bert.encoder.layer.1.intermediate.dense.weight: Frozen\n",
      "bert.encoder.layer.1.intermediate.dense.bias: Frozen\n",
      "bert.encoder.layer.1.output.dense.weight: Frozen\n",
      "bert.encoder.layer.1.output.dense.bias: Frozen\n",
      "bert.encoder.layer.1.output.LayerNorm.weight: Frozen\n",
      "bert.encoder.layer.1.output.LayerNorm.bias: Frozen\n",
      "bert.encoder.layer.2.attention.self.query.weight: Frozen\n",
      "bert.encoder.layer.2.attention.self.query.bias: Frozen\n",
      "bert.encoder.layer.2.attention.self.key.weight: Frozen\n",
      "bert.encoder.layer.2.attention.self.key.bias: Frozen\n",
      "bert.encoder.layer.2.attention.self.value.weight: Frozen\n",
      "bert.encoder.layer.2.attention.self.value.bias: Frozen\n",
      "bert.encoder.layer.2.attention.output.dense.weight: Frozen\n",
      "bert.encoder.layer.2.attention.output.dense.bias: Frozen\n",
      "bert.encoder.layer.2.attention.output.LayerNorm.weight: Frozen\n",
      "bert.encoder.layer.2.attention.output.LayerNorm.bias: Frozen\n",
      "bert.encoder.layer.2.intermediate.dense.weight: Frozen\n",
      "bert.encoder.layer.2.intermediate.dense.bias: Frozen\n",
      "bert.encoder.layer.2.output.dense.weight: Frozen\n",
      "bert.encoder.layer.2.output.dense.bias: Frozen\n",
      "bert.encoder.layer.2.output.LayerNorm.weight: Frozen\n",
      "bert.encoder.layer.2.output.LayerNorm.bias: Frozen\n",
      "bert.encoder.layer.3.attention.self.query.weight: Frozen\n",
      "bert.encoder.layer.3.attention.self.query.bias: Frozen\n",
      "bert.encoder.layer.3.attention.self.key.weight: Frozen\n",
      "bert.encoder.layer.3.attention.self.key.bias: Frozen\n",
      "bert.encoder.layer.3.attention.self.value.weight: Frozen\n",
      "bert.encoder.layer.3.attention.self.value.bias: Frozen\n",
      "bert.encoder.layer.3.attention.output.dense.weight: Frozen\n",
      "bert.encoder.layer.3.attention.output.dense.bias: Frozen\n",
      "bert.encoder.layer.3.attention.output.LayerNorm.weight: Frozen\n",
      "bert.encoder.layer.3.attention.output.LayerNorm.bias: Frozen\n",
      "bert.encoder.layer.3.intermediate.dense.weight: Frozen\n",
      "bert.encoder.layer.3.intermediate.dense.bias: Frozen\n",
      "bert.encoder.layer.3.output.dense.weight: Frozen\n",
      "bert.encoder.layer.3.output.dense.bias: Frozen\n",
      "bert.encoder.layer.3.output.LayerNorm.weight: Frozen\n",
      "bert.encoder.layer.3.output.LayerNorm.bias: Frozen\n",
      "bert.encoder.layer.4.attention.self.query.weight: Frozen\n",
      "bert.encoder.layer.4.attention.self.query.bias: Frozen\n",
      "bert.encoder.layer.4.attention.self.key.weight: Frozen\n",
      "bert.encoder.layer.4.attention.self.key.bias: Frozen\n",
      "bert.encoder.layer.4.attention.self.value.weight: Frozen\n",
      "bert.encoder.layer.4.attention.self.value.bias: Frozen\n",
      "bert.encoder.layer.4.attention.output.dense.weight: Frozen\n",
      "bert.encoder.layer.4.attention.output.dense.bias: Frozen\n",
      "bert.encoder.layer.4.attention.output.LayerNorm.weight: Frozen\n",
      "bert.encoder.layer.4.attention.output.LayerNorm.bias: Frozen\n",
      "bert.encoder.layer.4.intermediate.dense.weight: Frozen\n",
      "bert.encoder.layer.4.intermediate.dense.bias: Frozen\n",
      "bert.encoder.layer.4.output.dense.weight: Frozen\n",
      "bert.encoder.layer.4.output.dense.bias: Frozen\n",
      "bert.encoder.layer.4.output.LayerNorm.weight: Frozen\n",
      "bert.encoder.layer.4.output.LayerNorm.bias: Frozen\n",
      "bert.encoder.layer.5.attention.self.query.weight: Frozen\n",
      "bert.encoder.layer.5.attention.self.query.bias: Frozen\n",
      "bert.encoder.layer.5.attention.self.key.weight: Frozen\n",
      "bert.encoder.layer.5.attention.self.key.bias: Frozen\n",
      "bert.encoder.layer.5.attention.self.value.weight: Frozen\n",
      "bert.encoder.layer.5.attention.self.value.bias: Frozen\n",
      "bert.encoder.layer.5.attention.output.dense.weight: Frozen\n",
      "bert.encoder.layer.5.attention.output.dense.bias: Frozen\n",
      "bert.encoder.layer.5.attention.output.LayerNorm.weight: Frozen\n",
      "bert.encoder.layer.5.attention.output.LayerNorm.bias: Frozen\n",
      "bert.encoder.layer.5.intermediate.dense.weight: Frozen\n",
      "bert.encoder.layer.5.intermediate.dense.bias: Frozen\n",
      "bert.encoder.layer.5.output.dense.weight: Frozen\n",
      "bert.encoder.layer.5.output.dense.bias: Frozen\n",
      "bert.encoder.layer.5.output.LayerNorm.weight: Frozen\n",
      "bert.encoder.layer.5.output.LayerNorm.bias: Frozen\n",
      "bert.encoder.layer.6.attention.self.query.weight: Frozen\n",
      "bert.encoder.layer.6.attention.self.query.bias: Frozen\n",
      "bert.encoder.layer.6.attention.self.key.weight: Frozen\n",
      "bert.encoder.layer.6.attention.self.key.bias: Frozen\n",
      "bert.encoder.layer.6.attention.self.value.weight: Frozen\n",
      "bert.encoder.layer.6.attention.self.value.bias: Frozen\n",
      "bert.encoder.layer.6.attention.output.dense.weight: Frozen\n",
      "bert.encoder.layer.6.attention.output.dense.bias: Frozen\n",
      "bert.encoder.layer.6.attention.output.LayerNorm.weight: Frozen\n",
      "bert.encoder.layer.6.attention.output.LayerNorm.bias: Frozen\n",
      "bert.encoder.layer.6.intermediate.dense.weight: Frozen\n",
      "bert.encoder.layer.6.intermediate.dense.bias: Frozen\n",
      "bert.encoder.layer.6.output.dense.weight: Frozen\n",
      "bert.encoder.layer.6.output.dense.bias: Frozen\n",
      "bert.encoder.layer.6.output.LayerNorm.weight: Frozen\n",
      "bert.encoder.layer.6.output.LayerNorm.bias: Frozen\n",
      "bert.encoder.layer.7.attention.self.query.weight: Frozen\n",
      "bert.encoder.layer.7.attention.self.query.bias: Frozen\n",
      "bert.encoder.layer.7.attention.self.key.weight: Frozen\n",
      "bert.encoder.layer.7.attention.self.key.bias: Frozen\n",
      "bert.encoder.layer.7.attention.self.value.weight: Frozen\n",
      "bert.encoder.layer.7.attention.self.value.bias: Frozen\n",
      "bert.encoder.layer.7.attention.output.dense.weight: Frozen\n",
      "bert.encoder.layer.7.attention.output.dense.bias: Frozen\n",
      "bert.encoder.layer.7.attention.output.LayerNorm.weight: Frozen\n",
      "bert.encoder.layer.7.attention.output.LayerNorm.bias: Frozen\n",
      "bert.encoder.layer.7.intermediate.dense.weight: Frozen\n",
      "bert.encoder.layer.7.intermediate.dense.bias: Frozen\n",
      "bert.encoder.layer.7.output.dense.weight: Frozen\n",
      "bert.encoder.layer.7.output.dense.bias: Frozen\n",
      "bert.encoder.layer.7.output.LayerNorm.weight: Frozen\n",
      "bert.encoder.layer.7.output.LayerNorm.bias: Frozen\n",
      "bert.encoder.layer.8.attention.self.query.weight: Frozen\n",
      "bert.encoder.layer.8.attention.self.query.bias: Frozen\n",
      "bert.encoder.layer.8.attention.self.key.weight: Frozen\n",
      "bert.encoder.layer.8.attention.self.key.bias: Frozen\n",
      "bert.encoder.layer.8.attention.self.value.weight: Frozen\n",
      "bert.encoder.layer.8.attention.self.value.bias: Frozen\n",
      "bert.encoder.layer.8.attention.output.dense.weight: Frozen\n",
      "bert.encoder.layer.8.attention.output.dense.bias: Frozen\n",
      "bert.encoder.layer.8.attention.output.LayerNorm.weight: Frozen\n",
      "bert.encoder.layer.8.attention.output.LayerNorm.bias: Frozen\n",
      "bert.encoder.layer.8.intermediate.dense.weight: Frozen\n",
      "bert.encoder.layer.8.intermediate.dense.bias: Frozen\n",
      "bert.encoder.layer.8.output.dense.weight: Frozen\n",
      "bert.encoder.layer.8.output.dense.bias: Frozen\n",
      "bert.encoder.layer.8.output.LayerNorm.weight: Frozen\n",
      "bert.encoder.layer.8.output.LayerNorm.bias: Frozen\n",
      "bert.encoder.layer.9.attention.self.query.weight: Frozen\n",
      "bert.encoder.layer.9.attention.self.query.bias: Frozen\n",
      "bert.encoder.layer.9.attention.self.key.weight: Frozen\n",
      "bert.encoder.layer.9.attention.self.key.bias: Frozen\n",
      "bert.encoder.layer.9.attention.self.value.weight: Frozen\n",
      "bert.encoder.layer.9.attention.self.value.bias: Frozen\n",
      "bert.encoder.layer.9.attention.output.dense.weight: Frozen\n",
      "bert.encoder.layer.9.attention.output.dense.bias: Frozen\n",
      "bert.encoder.layer.9.attention.output.LayerNorm.weight: Frozen\n",
      "bert.encoder.layer.9.attention.output.LayerNorm.bias: Frozen\n",
      "bert.encoder.layer.9.intermediate.dense.weight: Frozen\n",
      "bert.encoder.layer.9.intermediate.dense.bias: Frozen\n",
      "bert.encoder.layer.9.output.dense.weight: Frozen\n",
      "bert.encoder.layer.9.output.dense.bias: Frozen\n",
      "bert.encoder.layer.9.output.LayerNorm.weight: Frozen\n",
      "bert.encoder.layer.9.output.LayerNorm.bias: Frozen\n",
      "bert.encoder.layer.10.attention.self.query.weight: Frozen\n",
      "bert.encoder.layer.10.attention.self.query.bias: Frozen\n",
      "bert.encoder.layer.10.attention.self.key.weight: Frozen\n",
      "bert.encoder.layer.10.attention.self.key.bias: Frozen\n",
      "bert.encoder.layer.10.attention.self.value.weight: Frozen\n",
      "bert.encoder.layer.10.attention.self.value.bias: Frozen\n",
      "bert.encoder.layer.10.attention.output.dense.weight: Frozen\n",
      "bert.encoder.layer.10.attention.output.dense.bias: Frozen\n",
      "bert.encoder.layer.10.attention.output.LayerNorm.weight: Frozen\n",
      "bert.encoder.layer.10.attention.output.LayerNorm.bias: Frozen\n",
      "bert.encoder.layer.10.intermediate.dense.weight: Frozen\n",
      "bert.encoder.layer.10.intermediate.dense.bias: Frozen\n",
      "bert.encoder.layer.10.output.dense.weight: Frozen\n",
      "bert.encoder.layer.10.output.dense.bias: Frozen\n",
      "bert.encoder.layer.10.output.LayerNorm.weight: Frozen\n",
      "bert.encoder.layer.10.output.LayerNorm.bias: Frozen\n",
      "bert.encoder.layer.11.attention.self.query.weight: Frozen\n",
      "bert.encoder.layer.11.attention.self.query.bias: Frozen\n",
      "bert.encoder.layer.11.attention.self.key.weight: Frozen\n",
      "bert.encoder.layer.11.attention.self.key.bias: Frozen\n",
      "bert.encoder.layer.11.attention.self.value.weight: Frozen\n",
      "bert.encoder.layer.11.attention.self.value.bias: Frozen\n",
      "bert.encoder.layer.11.attention.output.dense.weight: Frozen\n",
      "bert.encoder.layer.11.attention.output.dense.bias: Frozen\n",
      "bert.encoder.layer.11.attention.output.LayerNorm.weight: Frozen\n",
      "bert.encoder.layer.11.attention.output.LayerNorm.bias: Frozen\n",
      "bert.encoder.layer.11.intermediate.dense.weight: Frozen\n",
      "bert.encoder.layer.11.intermediate.dense.bias: Frozen\n",
      "bert.encoder.layer.11.output.dense.weight: Frozen\n",
      "bert.encoder.layer.11.output.dense.bias: Frozen\n",
      "bert.encoder.layer.11.output.LayerNorm.weight: Frozen\n",
      "bert.encoder.layer.11.output.LayerNorm.bias: Frozen\n",
      "bert.pooler.dense.weight: Frozen\n",
      "bert.pooler.dense.bias: Frozen\n",
      "classifier.weight: Trainable\n",
      "classifier.bias: Trainable\n"
     ]
    },
    {
     "data": {
      "text/plain": [
       "BertForSequenceClassification(\n",
       "  (bert): BertModel(\n",
       "    (embeddings): BertEmbeddings(\n",
       "      (word_embeddings): Embedding(30522, 768, padding_idx=0)\n",
       "      (position_embeddings): Embedding(512, 768)\n",
       "      (token_type_embeddings): Embedding(2, 768)\n",
       "      (LayerNorm): LayerNorm((768,), eps=1e-12, elementwise_affine=True)\n",
       "      (dropout): Dropout(p=0.1, inplace=False)\n",
       "    )\n",
       "    (encoder): BertEncoder(\n",
       "      (layer): ModuleList(\n",
       "        (0-11): 12 x BertLayer(\n",
       "          (attention): BertAttention(\n",
       "            (self): BertSdpaSelfAttention(\n",
       "              (query): Linear(in_features=768, out_features=768, bias=True)\n",
       "              (key): Linear(in_features=768, out_features=768, bias=True)\n",
       "              (value): Linear(in_features=768, out_features=768, bias=True)\n",
       "              (dropout): Dropout(p=0.1, inplace=False)\n",
       "            )\n",
       "            (output): BertSelfOutput(\n",
       "              (dense): Linear(in_features=768, out_features=768, bias=True)\n",
       "              (LayerNorm): LayerNorm((768,), eps=1e-12, elementwise_affine=True)\n",
       "              (dropout): Dropout(p=0.1, inplace=False)\n",
       "            )\n",
       "          )\n",
       "          (intermediate): BertIntermediate(\n",
       "            (dense): Linear(in_features=768, out_features=3072, bias=True)\n",
       "            (intermediate_act_fn): GELUActivation()\n",
       "          )\n",
       "          (output): BertOutput(\n",
       "            (dense): Linear(in_features=3072, out_features=768, bias=True)\n",
       "            (LayerNorm): LayerNorm((768,), eps=1e-12, elementwise_affine=True)\n",
       "            (dropout): Dropout(p=0.1, inplace=False)\n",
       "          )\n",
       "        )\n",
       "      )\n",
       "    )\n",
       "    (pooler): BertPooler(\n",
       "      (dense): Linear(in_features=768, out_features=768, bias=True)\n",
       "      (activation): Tanh()\n",
       "    )\n",
       "  )\n",
       "  (dropout): Dropout(p=0.1, inplace=False)\n",
       "  (classifier): Linear(in_features=768, out_features=2, bias=True)\n",
       ")"
      ]
     },
     "execution_count": 50,
     "metadata": {},
     "output_type": "execute_result"
    }
   ],
   "source": [
    "# Load the pretrained BERT model\n",
    "model = AutoModelForSequenceClassification.from_pretrained(\"bert-base-uncased\", num_labels=2)\n",
    "\n",
    "# Freeze all layers except the classification head\n",
    "for name, param in model.named_parameters():\n",
    "    if \"classifier\" not in name:\n",
    "        param.requires_grad = False\n",
    "\n",
    "# Verify which parameters are trainable\n",
    "for name, param in model.named_parameters():\n",
    "    print(f\"{name}: {'Trainable' if param.requires_grad else 'Frozen'}\")\n",
    "\n",
    "# Define the optimizer (only trainable parameters will be optimized)\n",
    "optimizer = AdamW(filter(lambda p: p.requires_grad, model.parameters()), lr=5e-5)\n",
    "\n",
    "# Move model to GPU if available\n",
    "device = torch.device(\"cuda\") if torch.cuda.is_available() else torch.device(\"cpu\")\n",
    "model.to(device)"
   ]
  },
  {
   "cell_type": "markdown",
   "metadata": {},
   "source": [
    "# Training BERT model"
   ]
  },
  {
   "cell_type": "code",
   "execution_count": 63,
   "metadata": {},
   "outputs": [],
   "source": [
    "# Training loop\n",
    "epochs = 3\n",
    "batch_size = 16\n",
    "train_loader = torch.utils.data.DataLoader(train_dataset, batch_size=batch_size, shuffle=True)\n",
    "val_loader = torch.utils.data.DataLoader(val_dataset, batch_size=batch_size)\n",
    "test_loader = torch.utils.data.DataLoader(test_dataset, batch_size=batch_size)"
   ]
  },
  {
   "cell_type": "code",
   "execution_count": 56,
   "metadata": {},
   "outputs": [
    {
     "name": "stdout",
     "output_type": "stream",
     "text": [
      "Epoch 1/3, Time: 712.99s, Train Loss: 0.5282, Train Accuracy: 0.7688, Val Loss: 0.4472, Val Accuracy: 0.8172\n",
      "Weights saved to D:\\FCDS\\semster 7\\NLP\\Project\\pre_trained_transfer_learning_classification_BERT\\epoch_1_weights.pth\n",
      "Epoch 2/3 will take approximately 6m 47s\n",
      "Epoch 2/3, Time: 710.58s, Train Loss: 0.4536, Train Accuracy: 0.7981, Val Loss: 0.4068, Val Accuracy: 0.8248\n",
      "Weights saved to D:\\FCDS\\semster 7\\NLP\\Project\\pre_trained_transfer_learning_classification_BERT\\epoch_2_weights.pth\n",
      "Epoch 3/3 will take approximately 6m 46s\n",
      "Epoch 3/3, Time: 712.87s, Train Loss: 0.4310, Train Accuracy: 0.8040, Val Loss: 0.3905, Val Accuracy: 0.8282\n",
      "Weights saved to D:\\FCDS\\semster 7\\NLP\\Project\\pre_trained_transfer_learning_classification_BERT\\epoch_3_weights.pth\n"
     ]
    }
   ],
   "source": [
    "# Metrics and visualization variables\n",
    "train_losses, val_losses = [], []\n",
    "train_accuracies, val_accuracies = [], []\n",
    "\n",
    "# Directory to save model weights\n",
    "save_dir = r\"D:\\FCDS\\semster 7\\NLP\\Project\\pre_trained_transfer_learning_classification_BERT\"\n",
    "os.makedirs(save_dir, exist_ok=True)\n",
    "\n",
    "# Training loop with time estimation\n",
    "for epoch in range(epochs):\n",
    "    model.train()  # Set the model to training mode\n",
    "    total_loss = 0\n",
    "    correct_train, total_train = 0, 0\n",
    "    start_time = time.time()  # Track start time of the epoch\n",
    "\n",
    "    # Estimate time based on the previous epoch (if applicable)\n",
    "    if epoch > 0:\n",
    "        avg_batch_time = total_epoch_time / len(train_loader)  # Average time per batch in the previous epoch\n",
    "        estimated_epoch_time = avg_batch_time * len(train_loader)\n",
    "        estimated_minutes = estimated_epoch_time / 60\n",
    "        estimated_seconds = estimated_epoch_time % 60\n",
    "        print(f\"Epoch {epoch + 1}/{epochs} will take approximately {int(estimated_minutes)}m {int(estimated_seconds)}s\")\n",
    "\n",
    "    total_epoch_time = 0  # Reset the total time for the epoch\n",
    "\n",
    "    # Training loop\n",
    "    for batch_idx, batch in enumerate(train_loader, start=1):\n",
    "        batch_start_time = time.time()  # Track start time of the batch\n",
    "\n",
    "        # Move batch to device\n",
    "        input_ids = batch['input_ids'].to(device)\n",
    "        attention_mask = batch['attention_mask'].to(device)\n",
    "        labels = batch['labels'].to(device)\n",
    "\n",
    "        # Forward pass\n",
    "        outputs = model(input_ids=input_ids, attention_mask=attention_mask, labels=labels)\n",
    "        loss = outputs.loss\n",
    "        logits = outputs.logits\n",
    "\n",
    "        # Backward pass\n",
    "        optimizer.zero_grad()\n",
    "        loss.backward()\n",
    "        optimizer.step()\n",
    "\n",
    "        total_loss += loss.item()\n",
    "\n",
    "        # Compute training accuracy\n",
    "        preds = torch.argmax(logits, dim=1)\n",
    "        correct_train += (preds == labels).sum().item()\n",
    "        total_train += labels.size(0)\n",
    "\n",
    "        # Track batch time and update total epoch time\n",
    "        batch_time = time.time() - batch_start_time\n",
    "        total_epoch_time += batch_time\n",
    "\n",
    "    # Calculate training accuracy and loss\n",
    "    train_accuracy = correct_train / total_train\n",
    "    train_accuracies.append(train_accuracy)\n",
    "    train_losses.append(total_loss / len(train_loader))\n",
    "\n",
    "    # Validation loop\n",
    "    model.eval()  # Set the model to evaluation mode\n",
    "    val_loss, correct_val, total_val = 0, 0, 0\n",
    "    with torch.no_grad():\n",
    "        for batch in val_loader:\n",
    "            input_ids = batch['input_ids'].to(device)\n",
    "            attention_mask = batch['attention_mask'].to(device)\n",
    "            labels = batch['labels'].to(device)\n",
    "\n",
    "            outputs = model(input_ids=input_ids, attention_mask=attention_mask, labels=labels)\n",
    "            val_loss += outputs.loss.item()\n",
    "\n",
    "            preds = torch.argmax(outputs.logits, dim=1)\n",
    "            correct_val += (preds == labels).sum().item()\n",
    "            total_val += labels.size(0)\n",
    "\n",
    "    val_accuracy = correct_val / total_val\n",
    "    val_accuracies.append(val_accuracy)\n",
    "    val_losses.append(val_loss / len(val_loader))\n",
    "\n",
    "    # Calculate and print epoch time and metrics\n",
    "    epoch_time = time.time() - start_time\n",
    "    print(f\"Epoch {epoch + 1}/{epochs}, Time: {epoch_time:.2f}s, \"\n",
    "          f\"Train Loss: {train_losses[-1]:.4f}, Train Accuracy: {train_accuracy:.4f}, \"\n",
    "          f\"Val Loss: {val_losses[-1]:.4f}, Val Accuracy: {val_accuracy:.4f}\")\n",
    "\n",
    "    # Save model weights for the epoch\n",
    "    weight_path = os.path.join(save_dir, f\"epoch_{epoch + 1}_weights.pth\")\n",
    "    torch.save(model.state_dict(), weight_path)\n",
    "    print(f\"Weights saved to {weight_path}\")"
   ]
  },
  {
   "cell_type": "code",
   "execution_count": 64,
   "metadata": {},
   "outputs": [
    {
     "name": "stderr",
     "output_type": "stream",
     "text": [
      "C:\\Users\\mazen\\AppData\\Local\\Temp\\ipykernel_5044\\3843301954.py:4: FutureWarning: You are using `torch.load` with `weights_only=False` (the current default value), which uses the default pickle module implicitly. It is possible to construct malicious pickle data which will execute arbitrary code during unpickling (See https://github.com/pytorch/pytorch/blob/main/SECURITY.md#untrusted-models for more details). In a future release, the default value for `weights_only` will be flipped to `True`. This limits the functions that could be executed during unpickling. Arbitrary objects will no longer be allowed to be loaded via this mode unless they are explicitly allowlisted by the user via `torch.serialization.add_safe_globals`. We recommend you start setting `weights_only=True` for any use case where you don't have full control of the loaded file. Please open an issue on GitHub for any issues related to this experimental feature.\n",
      "  model.load_state_dict(torch.load(checkpoint_path))\n"
     ]
    },
    {
     "name": "stdout",
     "output_type": "stream",
     "text": [
      "Resumed training from checkpoint: D:\\FCDS\\semster 7\\NLP\\Project\\pre_trained_transfer_learning_classification_BERT\\epoch_3_weights.pth\n",
      "Epoch 4/10 will take approximately 6m 46s\n",
      "Epoch 4/10, Time: 712.23s, Train Loss: 0.4201, Train Accuracy: 0.8087, Val Loss: 0.3820, Val Accuracy: 0.8295\n",
      "Weights saved to D:\\FCDS\\semster 7\\NLP\\Project\\pre_trained_transfer_learning_classification_BERT\\epoch_4_weights.pth\n",
      "Epoch 5/10 will take approximately 6m 46s\n",
      "Epoch 5/10, Time: 740.64s, Train Loss: 0.4142, Train Accuracy: 0.8103, Val Loss: 0.3734, Val Accuracy: 0.8355\n",
      "Weights saved to D:\\FCDS\\semster 7\\NLP\\Project\\pre_trained_transfer_learning_classification_BERT\\epoch_5_weights.pth\n",
      "Epoch 6/10 will take approximately 7m 15s\n",
      "Epoch 6/10, Time: 710.43s, Train Loss: 0.4098, Train Accuracy: 0.8123, Val Loss: 0.3687, Val Accuracy: 0.8358\n",
      "Weights saved to D:\\FCDS\\semster 7\\NLP\\Project\\pre_trained_transfer_learning_classification_BERT\\epoch_6_weights.pth\n",
      "Epoch 7/10 will take approximately 6m 45s\n",
      "Epoch 7/10, Time: 710.03s, Train Loss: 0.4078, Train Accuracy: 0.8133, Val Loss: 0.3650, Val Accuracy: 0.8388\n",
      "Weights saved to D:\\FCDS\\semster 7\\NLP\\Project\\pre_trained_transfer_learning_classification_BERT\\epoch_7_weights.pth\n",
      "Epoch 8/10 will take approximately 6m 45s\n",
      "Epoch 8/10, Time: 710.27s, Train Loss: 0.4050, Train Accuracy: 0.8154, Val Loss: 0.3621, Val Accuracy: 0.8389\n",
      "Weights saved to D:\\FCDS\\semster 7\\NLP\\Project\\pre_trained_transfer_learning_classification_BERT\\epoch_8_weights.pth\n",
      "Epoch 9/10 will take approximately 6m 45s\n",
      "Epoch 9/10, Time: 710.14s, Train Loss: 0.4012, Train Accuracy: 0.8169, Val Loss: 0.3603, Val Accuracy: 0.8398\n",
      "Weights saved to D:\\FCDS\\semster 7\\NLP\\Project\\pre_trained_transfer_learning_classification_BERT\\epoch_9_weights.pth\n",
      "Epoch 10/10 will take approximately 6m 45s\n",
      "Epoch 10/10, Time: 771.30s, Train Loss: 0.4014, Train Accuracy: 0.8170, Val Loss: 0.3583, Val Accuracy: 0.8409\n",
      "Weights saved to D:\\FCDS\\semster 7\\NLP\\Project\\pre_trained_transfer_learning_classification_BERT\\epoch_10_weights.pth\n"
     ]
    }
   ],
   "source": [
    "# Load the saved model weights\n",
    "checkpoint_path = r\"D:\\FCDS\\semster 7\\NLP\\Project\\pre_trained_transfer_learning_classification_BERT\\epoch_3_weights.pth\"\n",
    "if os.path.exists(checkpoint_path):\n",
    "    model.load_state_dict(torch.load(checkpoint_path))\n",
    "    print(f\"Resumed training from checkpoint: {checkpoint_path}\")\n",
    "else:\n",
    "    print(\"Checkpoint not found, starting training from scratch.\")\n",
    "\n",
    "# Continue training from the next epoch\n",
    "start_epoch = 3  # Starting from epoch 4 (as epoch 3 is already loaded)\n",
    "\n",
    "# Metrics and visualization variables\n",
    "train_losses, val_losses = [], []\n",
    "train_accuracies, val_accuracies = [], []\n",
    "\n",
    "# Directory to save model weights\n",
    "save_dir = r\"D:\\FCDS\\semster 7\\NLP\\Project\\pre_trained_transfer_learning_classification_BERT\"\n",
    "os.makedirs(save_dir, exist_ok=True)\n",
    "\n",
    "# Number of epochs (adjust according to your needs)\n",
    "epochs = 10  # If continuing from epoch 3, the total number of epochs will be from 4 to 10.\n",
    "\n",
    "# Training loop with time estimation\n",
    "for epoch in range(start_epoch, epochs):\n",
    "    model.train()  # Set the model to training mode\n",
    "    total_loss = 0\n",
    "    correct_train, total_train = 0, 0\n",
    "    start_time = time.time()  # Track start time of the epoch\n",
    "\n",
    "    # Estimate time based on the previous epoch (if applicable)\n",
    "    if epoch > 0:\n",
    "        avg_batch_time = total_epoch_time / len(train_loader)  # Average time per batch in the previous epoch\n",
    "        estimated_epoch_time = avg_batch_time * len(train_loader)\n",
    "        estimated_minutes = estimated_epoch_time / 60\n",
    "        estimated_seconds = estimated_epoch_time % 60\n",
    "        print(f\"Epoch {epoch + 1}/{epochs} will take approximately {int(estimated_minutes)}m {int(estimated_seconds)}s\")\n",
    "\n",
    "    total_epoch_time = 0  # Reset the total time for the epoch\n",
    "\n",
    "    # Training loop\n",
    "    for batch_idx, batch in enumerate(train_loader, start=1):\n",
    "        batch_start_time = time.time()  # Track start time of the batch\n",
    "\n",
    "        # Move batch to device\n",
    "        input_ids = batch['input_ids'].to(device)\n",
    "        attention_mask = batch['attention_mask'].to(device)\n",
    "        labels = batch['labels'].to(device)\n",
    "\n",
    "        # Forward pass\n",
    "        outputs = model(input_ids=input_ids, attention_mask=attention_mask, labels=labels)\n",
    "        loss = outputs.loss\n",
    "        logits = outputs.logits\n",
    "\n",
    "        # Backward pass\n",
    "        optimizer.zero_grad()\n",
    "        loss.backward()\n",
    "        optimizer.step()\n",
    "\n",
    "        total_loss += loss.item()\n",
    "\n",
    "        # Compute training accuracy\n",
    "        preds = torch.argmax(logits, dim=1)\n",
    "        correct_train += (preds == labels).sum().item()\n",
    "        total_train += labels.size(0)\n",
    "\n",
    "        # Track batch time and update total epoch time\n",
    "        batch_time = time.time() - batch_start_time\n",
    "        total_epoch_time += batch_time\n",
    "\n",
    "    # Calculate training accuracy and loss\n",
    "    train_accuracy = correct_train / total_train\n",
    "    train_accuracies.append(train_accuracy)\n",
    "    train_losses.append(total_loss / len(train_loader))\n",
    "\n",
    "    # Validation loop\n",
    "    model.eval()  # Set the model to evaluation mode\n",
    "    val_loss, correct_val, total_val = 0, 0, 0\n",
    "    with torch.no_grad():\n",
    "        for batch in val_loader:\n",
    "            input_ids = batch['input_ids'].to(device)\n",
    "            attention_mask = batch['attention_mask'].to(device)\n",
    "            labels = batch['labels'].to(device)\n",
    "\n",
    "            outputs = model(input_ids=input_ids, attention_mask=attention_mask, labels=labels)\n",
    "            val_loss += outputs.loss.item()\n",
    "\n",
    "            preds = torch.argmax(outputs.logits, dim=1)\n",
    "            correct_val += (preds == labels).sum().item()\n",
    "            total_val += labels.size(0)\n",
    "\n",
    "    val_accuracy = correct_val / total_val\n",
    "    val_accuracies.append(val_accuracy)\n",
    "    val_losses.append(val_loss / len(val_loader))\n",
    "\n",
    "    # Calculate and print epoch time and metrics\n",
    "    epoch_time = time.time() - start_time\n",
    "    print(f\"Epoch {epoch + 1}/{epochs}, Time: {epoch_time:.2f}s, \"\n",
    "          f\"Train Loss: {train_losses[-1]:.4f}, Train Accuracy: {train_accuracy:.4f}, \"\n",
    "          f\"Val Loss: {val_losses[-1]:.4f}, Val Accuracy: {val_accuracy:.4f}\")\n",
    "\n",
    "    # Save model weights for the epoch\n",
    "    weight_path = os.path.join(save_dir, f\"epoch_{epoch + 1}_weights.pth\")\n",
    "    torch.save(model.state_dict(), weight_path)\n",
    "    print(f\"Weights saved to {weight_path}\")"
   ]
  },
  {
   "cell_type": "code",
   "execution_count": 67,
   "metadata": {},
   "outputs": [
    {
     "data": {
      "image/png": "[encoded data removed]",
      "text/plain": [
       "<Figure size 1200x600 with 2 Axes>"
      ]
     },
     "metadata": {},
     "output_type": "display_data"
    }
   ],
   "source": [
    "# Adjust x to match the length of train_losses and val_losses\n",
    "x = range(start_epoch + 1, start_epoch + len(train_losses) + 1)\n",
    "\n",
    "# Plot training and validation losses\n",
    "plt.figure(figsize=(12, 6))\n",
    "plt.subplot(1, 2, 1)\n",
    "plt.plot(x, train_losses, label='Train Loss', marker='o')\n",
    "plt.plot(x, val_losses, label='Validation Loss', marker='o')\n",
    "plt.xlabel('Epochs')\n",
    "plt.ylabel('Loss')\n",
    "plt.title('Training and Validation Loss')\n",
    "plt.legend()\n",
    "\n",
    "# Plot training and validation accuracies\n",
    "plt.subplot(1, 2, 2)\n",
    "plt.plot(x, train_accuracies, label='Train Accuracy', marker='o')\n",
    "plt.plot(x, val_accuracies, label='Validation Accuracy', marker='o')\n",
    "plt.xlabel('Epochs')\n",
    "plt.ylabel('Accuracy')\n",
    "plt.title('Training and Validation Accuracy')\n",
    "plt.legend()\n",
    "\n",
    "plt.tight_layout()\n",
    "plt.show()\n"
   ]
  },
  {
   "cell_type": "code",
   "execution_count": 59,
   "metadata": {},
   "outputs": [],
   "source": [
    "# Evaluate on test set\n",
    "model.eval()\n",
    "test_preds, test_labels_list = [], []\n",
    "with torch.no_grad():\n",
    "    for batch in test_loader:\n",
    "        input_ids = batch['input_ids'].to(device)\n",
    "        attention_mask = batch['attention_mask'].to(device)\n",
    "        labels = batch['labels'].to(device)\n",
    "\n",
    "        outputs = model(input_ids=input_ids, attention_mask=attention_mask)\n",
    "        preds = torch.argmax(outputs.logits, dim=1)\n",
    "\n",
    "        test_preds.extend(preds.cpu().numpy())\n",
    "        test_labels_list.extend(labels.cpu().numpy())"
   ]
  },
  {
   "cell_type": "code",
   "execution_count": null,
   "metadata": {},
   "outputs": [
    {
     "name": "stdout",
     "output_type": "stream",
     "text": [
      "Test Set Metrics:\n",
      "Accuracy: 0.8295\n",
      "Precision: 0.8494\n",
      "Recall: 0.8052\n",
      "F1-Score: 0.8267\n"
     ]
    }
   ],
   "source": [
    "# Compute evaluation metrics\n",
    "accuracy = accuracy_score(test_labels_list, test_preds)\n",
    "precision = precision_score(test_labels_list, test_preds, average='binary')\n",
    "recall = recall_score(test_labels_list, test_preds, average='binary')\n",
    "f1 = f1_score(test_labels_list, test_preds, average='binary')\n",
    "conf_matrix = confusion_matrix(test_labels_list, test_preds)\n",
    "\n",
    "# Print metrics\n",
    "print(\"Test Set Metrics:\")\n",
    "print(f\"Accuracy: {accuracy:.4f}\")\n",
    "print(f\"Precision: {precision:.4f}\")\n",
    "print(f\"Recall: {recall:.4f}\")\n",
    "print(f\"F1-Score: {f1:.4f}\")"
   ]
  },
  {
   "cell_type": "code",
   "execution_count": 61,
   "metadata": {},
   "outputs": [
    {
     "data": {
      "image/png": "[encoded data removed]",
      "text/plain": [
       "<Figure size 600x500 with 2 Axes>"
      ]
     },
     "metadata": {},
     "output_type": "display_data"
    }
   ],
   "source": [
    "# Plot confusion matrix as a heatmap\n",
    "plt.figure(figsize=(6, 5))\n",
    "sns.heatmap(conf_matrix, annot=True, fmt=\"d\", cmap=\"Blues\", xticklabels=['Negative', 'Positive'], yticklabels=['Negative', 'Positive'])\n",
    "plt.title(\"Confusion Matrix\")\n",
    "plt.xlabel(\"Predicted\")\n",
    "plt.ylabel(\"Actual\")\n",
    "plt.show()"
   ]
  },
  {
   "cell_type": "markdown",
   "metadata": {},
   "source": [
    "# *Bonus models*"
   ]
  },
  {
   "cell_type": "code",
   "execution_count": 61,
   "metadata": {},
   "outputs": [],
   "source": [
    "import numpy as np\n",
    "import pandas as pd\n",
    "import time\n",
    "from sklearn.model_selection import train_test_split\n",
    "from tensorflow.keras.models import Model\n",
    "from tensorflow.keras.layers import (\n",
    "    Input, Embedding, Dense, GRU, LSTM, Dropout, Bidirectional, Attention, Flatten, GlobalAveragePooling1D\n",
    ")\n",
    "from tensorflow.keras.preprocessing.text import Tokenizer\n",
    "from tensorflow.keras.preprocessing.sequence import pad_sequences\n",
    "import matplotlib.pyplot as plt\n"
   ]
  },
  {
   "cell_type": "code",
   "execution_count": 62,
   "metadata": {},
   "outputs": [],
   "source": [
    "final_data = pd.read_csv(r\"D:\\FCDS\\semster 7\\NLP\\Project\\balanced_data.csv\")\n",
    "\n",
    "# Now we will select features and labels \n",
    "# feature is text from cleaned_comment_text colum\n",
    "comments = final_data[\"cleaned_comment_text\"].values\n",
    "#labels is bad_comment column\n",
    "labels = final_data[\"bad_comment\"].values\n",
    "\n",
    "# Split the data into training (60%), validation (20%), and test (20%)\n",
    "train_texts, val_test_texts, train_labels, val_test_labels = train_test_split(\n",
    "    comments, labels, test_size=0.4, random_state=42\n",
    ")\n",
    "val_texts, test_texts, val_labels, test_labels = train_test_split(\n",
    "    val_test_texts, val_test_labels, test_size=0.5, random_state=42\n",
    ")\n",
    "\n",
    "# Ensure the elements are strings\n",
    "train_texts = list(map(str, train_texts))\n",
    "val_texts = list(map(str, val_texts))\n",
    "test_texts = list(map(str, test_texts))"
   ]
  },
  {
   "cell_type": "code",
   "execution_count": 63,
   "metadata": {},
   "outputs": [],
   "source": [
    "# Tokenize and pad the sequences\n",
    "max_words = len(tokenizer.word_index) + 1\n",
    "max_len = 128\n",
    "\n",
    "# Tokenizer\n",
    "tokenizer = Tokenizer(num_words=max_words, oov_token=\"<OOV>\")\n",
    "tokenizer.fit_on_texts(train_texts)\n",
    "\n",
    "# Sequences\n",
    "train_sequences = tokenizer.texts_to_sequences(train_texts)\n",
    "val_sequences = tokenizer.texts_to_sequences(val_texts)\n",
    "test_sequences = tokenizer.texts_to_sequences(test_texts)\n",
    "\n",
    "# Padding\n",
    "x_train = pad_sequences(train_sequences, maxlen=max_len, padding=\"post\")\n",
    "x_val = pad_sequences(val_sequences, maxlen=max_len, padding=\"post\")\n",
    "x_test = pad_sequences(test_sequences, maxlen=max_len, padding=\"post\")\n",
    "\n",
    "y_train = np.array(train_labels)\n",
    "y_val = np.array(val_labels)\n",
    "y_test = np.array(test_labels)"
   ]
  },
  {
   "cell_type": "code",
   "execution_count": 66,
   "metadata": {},
   "outputs": [],
   "source": [
    "# Build Attention Layer\n",
    "class AttentionLayer(Model):\n",
    "    def call(self, inputs):\n",
    "        query, value = inputs\n",
    "        scores = tf.matmul(query, value, transpose_b=True)\n",
    "        scores = tf.nn.softmax(scores, axis=-1)\n",
    "        output = tf.matmul(scores, value)\n",
    "        return output\n",
    "\n",
    "# Define model creation function\n",
    "def build_model(rnn_type=\"GRU\"):\n",
    "    input_layer = Input(shape=(max_len,))\n",
    "    embedding_layer = Embedding(max_words, 128, input_length=max_len)(input_layer)\n",
    "\n",
    "    if rnn_type == \"GRU\":\n",
    "        rnn_layer = Bidirectional(GRU(64, return_sequences=True))(embedding_layer)\n",
    "    elif rnn_type == \"LSTM\":\n",
    "        rnn_layer = Bidirectional(LSTM(64, return_sequences=True))(embedding_layer)\n",
    "\n",
    "    attention_output = AttentionLayer()([rnn_layer, rnn_layer])\n",
    "    pooling_layer = GlobalAveragePooling1D()(attention_output)\n",
    "    dropout_layer = Dropout(0.3)(pooling_layer)\n",
    "    output_layer = Dense(1, activation=\"sigmoid\")(dropout_layer)\n",
    "\n",
    "    model = Model(inputs=input_layer, outputs=output_layer)\n",
    "    model.compile(optimizer=\"adam\", loss=\"binary_crossentropy\", metrics=[\"accuracy\"])\n",
    "    return model\n",
    "\n",
    "# Train and evaluate the model\n",
    "def train_and_evaluate_model(model, rnn_type):\n",
    "    print(f\"Training {rnn_type} model...\")\n",
    "    history = model.fit(\n",
    "        x_train,\n",
    "        y_train,\n",
    "        validation_data=(x_val, y_val),\n",
    "        epochs=5,\n",
    "        batch_size=64,\n",
    "        verbose=1,\n",
    "        callbacks=[]\n",
    "    )\n",
    "\n",
    "    # Evaluate the model on test data\n",
    "    print(\"\\nEvaluating model...\")\n",
    "    test_loss, test_accuracy = model.evaluate(x_test, y_test, verbose=0)\n",
    "    print(f\"Test Loss: {test_loss:.4f}, Test Accuracy: {test_accuracy:.4f}\")\n",
    "\n",
    "    # Plot training history\n",
    "    plot_training_history(history, rnn_type)\n",
    "\n",
    "    return model\n",
    "\n",
    "# Plot training and validation metrics\n",
    "def plot_training_history(history, rnn_type):\n",
    "    epochs = range(1, len(history.history[\"loss\"]) + 1)\n",
    "\n",
    "    plt.figure(figsize=(12, 5))\n",
    "\n",
    "    # Plot loss\n",
    "    plt.subplot(1, 2, 1)\n",
    "    plt.plot(epochs, history.history[\"loss\"], label=\"Training Loss\")\n",
    "    plt.plot(epochs, history.history[\"val_loss\"], label=\"Validation Loss\")\n",
    "    plt.title(f\"{rnn_type} Model Loss\")\n",
    "    plt.xlabel(\"Epochs\")\n",
    "    plt.ylabel(\"Loss\")\n",
    "    plt.legend()\n",
    "\n",
    "    # Plot accuracy\n",
    "    plt.subplot(1, 2, 2)\n",
    "    plt.plot(epochs, history.history[\"accuracy\"], label=\"Training Accuracy\")\n",
    "    plt.plot(epochs, history.history[\"val_accuracy\"], label=\"Validation Accuracy\")\n",
    "    plt.title(f\"{rnn_type} Model Accuracy\")\n",
    "    plt.xlabel(\"Epochs\")\n",
    "    plt.ylabel(\"Accuracy\")\n",
    "    plt.legend()\n",
    "\n",
    "    plt.tight_layout()\n",
    "    plt.show()\n"
   ]
  },
  {
   "cell_type": "code",
   "execution_count": 67,
   "metadata": {},
   "outputs": [
    {
     "name": "stdout",
     "output_type": "stream",
     "text": [
      "Training GRU model...\n",
      "Epoch 1/5\n",
      "2706/2706 [==============================] - 98s 35ms/step - loss: 0.1794 - accuracy: 0.9290 - val_loss: 0.0981 - val_accuracy: 0.9652\n",
      "Epoch 2/5\n",
      "2706/2706 [==============================] - 95s 35ms/step - loss: 0.0639 - accuracy: 0.9793 - val_loss: 0.0736 - val_accuracy: 0.9754\n",
      "Epoch 3/5\n",
      "2706/2706 [==============================] - 95s 35ms/step - loss: 0.0324 - accuracy: 0.9902 - val_loss: 0.0682 - val_accuracy: 0.9805\n",
      "Epoch 4/5\n",
      "2706/2706 [==============================] - 105s 39ms/step - loss: 0.0193 - accuracy: 0.9942 - val_loss: 0.0662 - val_accuracy: 0.9829\n",
      "Epoch 5/5\n",
      "2706/2706 [==============================] - 101s 37ms/step - loss: 0.0124 - accuracy: 0.9962 - val_loss: 0.0720 - val_accuracy: 0.9830\n",
      "\n",
      "Evaluating model...\n",
      "Test Loss: 0.0694, Test Accuracy: 0.9836\n"
     ]
    },
    {
     "data": {
      "image/png": "[encoded data removed]",
      "text/plain": [
       "<Figure size 1200x500 with 2 Axes>"
      ]
     },
     "metadata": {},
     "output_type": "display_data"
    },
    {
     "name": "stdout",
     "output_type": "stream",
     "text": [
      "Time taken for GRU: 509.99 seconds\n",
      "\n"
     ]
    }
   ],
   "source": [
    "# Train GRU and LSTM models\n",
    "start_time = time.time()\n",
    "gru_model = build_model(rnn_type=\"GRU\")\n",
    "train_and_evaluate_model(gru_model, rnn_type=\"GRU\")\n",
    "end_time = time.time()\n",
    "print(f\"Time taken for GRU: {end_time - start_time:.2f} seconds\\n\")"
   ]
  },
  {
   "cell_type": "code",
   "execution_count": 68,
   "metadata": {},
   "outputs": [
    {
     "name": "stdout",
     "output_type": "stream",
     "text": [
      "Training LSTM model...\n",
      "Epoch 1/5\n",
      "2706/2706 [==============================] - 97s 35ms/step - loss: 0.2537 - accuracy: 0.8930 - val_loss: 0.1283 - val_accuracy: 0.9545\n",
      "Epoch 2/5\n",
      "2706/2706 [==============================] - 93s 35ms/step - loss: 0.0948 - accuracy: 0.9663 - val_loss: 0.0860 - val_accuracy: 0.9714\n",
      "Epoch 3/5\n",
      "2706/2706 [==============================] - 93s 35ms/step - loss: 0.0538 - accuracy: 0.9825 - val_loss: 0.0699 - val_accuracy: 0.9788\n",
      "Epoch 4/5\n",
      "2706/2706 [==============================] - 94s 35ms/step - loss: 0.0318 - accuracy: 0.9900 - val_loss: 0.0985 - val_accuracy: 0.9747\n",
      "Epoch 5/5\n",
      "2706/2706 [==============================] - 93s 35ms/step - loss: 0.0218 - accuracy: 0.9933 - val_loss: 0.0733 - val_accuracy: 0.9818\n",
      "\n",
      "Evaluating model...\n",
      "Test Loss: 0.0740, Test Accuracy: 0.9814\n"
     ]
    },
    {
     "data": {
      "image/png": "[encoded data removed]",
      "text/plain": [
       "<Figure size 1200x500 with 2 Axes>"
      ]
     },
     "metadata": {},
     "output_type": "display_data"
    },
    {
     "name": "stdout",
     "output_type": "stream",
     "text": [
      "Time taken for LSTM: 486.81 seconds\n",
      "\n"
     ]
    }
   ],
   "source": [
    "start_time = time.time()\n",
    "lstm_model = build_model(rnn_type=\"LSTM\")\n",
    "train_and_evaluate_model(lstm_model, rnn_type=\"LSTM\")\n",
    "end_time = time.time()\n",
    "print(f\"Time taken for LSTM: {end_time - start_time:.2f} seconds\\n\")"
   ]
  }
 ],
 "metadata": {
  "kernelspec": {
   "display_name": "Python 3",
   "language": "python",
   "name": "python3"
  },
  "language_info": {
   "codemirror_mode": {
    "name": "ipython",
    "version": 3
   },
   "file_extension": ".py",
   "mimetype": "text/x-python",
   "name": "python",
   "nbconvert_exporter": "python",
   "pygments_lexer": "ipython3",
   "version": "3.9.13"
  },
  "orig_nbformat": 4
 },
 "nbformat": 4,
 "nbformat_minor": 2
}
